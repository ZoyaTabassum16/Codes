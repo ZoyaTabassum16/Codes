{
 "cells": [
  {
   "cell_type": "code",
   "execution_count": 1,
   "id": "dfaf347d-2b82-4843-bb0c-8f2c250c581e",
   "metadata": {},
   "outputs": [
    {
     "name": "stdout",
     "output_type": "stream",
     "text": [
      "[1, 4, 5, 6, 7, 8, 9]\n"
     ]
    }
   ],
   "source": [
    "#bubble sort\n",
    "#method 2\n",
    "arr=[5,4,8,1,9,6,7]\n",
    "for i in range(0,len(arr)):\n",
    "    for j in range(0,len(arr)-1):\n",
    "        if arr[j]>arr[j+1]:\n",
    "            temp=arr[j]\n",
    "            arr[j]=arr[j+1]\n",
    "            arr[j+1]=temp\n",
    "print(arr)\n",
    "        "
   ]
  },
  {
   "cell_type": "code",
   "execution_count": 2,
   "id": "9890fc87-f782-4094-af12-0b101d10d498",
   "metadata": {},
   "outputs": [
    {
     "name": "stdout",
     "output_type": "stream",
     "text": [
      "[1, 4, 5, 6, 7, 8, 9]\n"
     ]
    }
   ],
   "source": [
    "#insertion sort#we will check for the predecessor is smaller or not,if smaller kept it there only or else swap it,here first element we wont take that is 0th coz it doesnt have predecessor\n",
    "arr=[5,4,8,1,9,6,7]\n",
    "for i in range(1,len(arr)):\n",
    "    temp=arr[i]\n",
    "    j=i-1\n",
    "    while j>=0 and temp<arr[j]:\n",
    "        arr[j+1]=arr[j]\n",
    "        j-=1\n",
    "    arr[j+1]=temp\n",
    "print(arr)\n"
   ]
  },
  {
   "cell_type": "code",
   "execution_count": 3,
   "id": "e5a8a8bb-6bad-4f1b-8b3f-0add9a398296",
   "metadata": {},
   "outputs": [
    {
     "name": "stdout",
     "output_type": "stream",
     "text": [
      "[1, 4, 5, 6, 7, 8, 9]\n"
     ]
    }
   ],
   "source": [
    "#selection sort\n",
    "# find index of minimum element,\n",
    "arr=[5,4,8,1,9,6,7]\n",
    "for i in range(0,len(arr)):\n",
    "    min_idx=i\n",
    "    for j in range(i+1,len(arr)):\n",
    "        if arr[min_idx]>arr[j]:\n",
    "            min_idx=j\n",
    "    temp=arr[i]\n",
    "    arr[i]=arr[min_idx]\n",
    "    arr[min_idx]=temp\n",
    "print(arr)\n",
    "        "
   ]
  },
  {
   "cell_type": "code",
   "execution_count": 7,
   "id": "f7a01a2a-2f22-4f7a-bb59-d267dfbf7603",
   "metadata": {},
   "outputs": [
    {
     "name": "stdout",
     "output_type": "stream",
     "text": [
      "[0, 1, 3, 4, 6, 7, 8, 9]\n"
     ]
    },
    {
     "name": "stdin",
     "output_type": "stream",
     "text": [
      " 6\n"
     ]
    },
    {
     "name": "stdout",
     "output_type": "stream",
     "text": [
      "element found at 4\n"
     ]
    }
   ],
   "source": [
    "#binary search\n",
    "#sort asc\n",
    "#find the mid#to find mid:(low+high)/2\n",
    "#compare vth key element\n",
    "l=[9,6,8,7,4,1,3,0]\n",
    "l.sort()\n",
    "print(l)\n",
    "low=0\n",
    "high=len(l)\n",
    "key=int(input())\n",
    "flag=0\n",
    "while low<high:\n",
    "    mid=int(low+(high-low)/2)#find mid element\n",
    "    if key<l[mid]:\n",
    "        high=mid-1\n",
    "    elif key>l[mid]:\n",
    "        low=mid+1\n",
    "    else:\n",
    "        flag==1\n",
    "        break\n",
    "if flag==0:\n",
    "    print(\"element found at\",mid)\n",
    "else:\n",
    "    print(\"not found\")\n",
    "    "
   ]
  },
  {
   "cell_type": "code",
   "execution_count": 40,
   "id": "479951ac-19e3-41b8-9d3a-83ccb33a493f",
   "metadata": {},
   "outputs": [
    {
     "name": "stdin",
     "output_type": "stream",
     "text": [
      " this)\n"
     ]
    },
    {
     "name": "stdout",
     "output_type": "stream",
     "text": [
      "invalid string\n"
     ]
    }
   ],
   "source": [
    "#valid string\n",
    "s=input()\n",
    "x=y=z=0\n",
    "for c in s:\n",
    "    match(c):\n",
    "     case'(':x+=1\n",
    "     case')':x-=1\n",
    "     case'{':y+=1\n",
    "     case'}':y-=1\n",
    "     case'[':z+=1\n",
    "     case']':z-=1\n",
    "     case _ :continue\n",
    "if x+y+z == 0:\n",
    "    print(\"valid string\")\n",
    "else:\n",
    "    print(\"invalid string\")"
   ]
  },
  {
   "cell_type": "code",
   "execution_count": 47,
   "id": "a7c0a990-520f-4fcb-94c3-4dec901235d2",
   "metadata": {},
   "outputs": [
    {
     "name": "stdout",
     "output_type": "stream",
     "text": [
      "item added to stack\n",
      "item added to stack\n",
      "item added to stack\n",
      "item added to stack\n",
      "[2, 3, 4, 5]\n",
      "item removes from stack\n",
      "[2, 3, 4]\n"
     ]
    }
   ],
   "source": [
    "#stack\n",
    "def add(e):\n",
    "    s.append(e)\n",
    "    print(\"item added to stack\")\n",
    "def delete():\n",
    "    s.pop()\n",
    "    print(\"item removes from stack\")\n",
    "s=[]\n",
    "add(2)\n",
    "add(3)\n",
    "add(4)\n",
    "add(5)\n",
    "print(s)\n",
    "delete()\n",
    "print(s)\n",
    "\n",
    "\n",
    "\n"
   ]
  },
  {
   "cell_type": "code",
   "execution_count": 7,
   "id": "315a3b24-eb84-4d84-88bf-e4c4d9cda74f",
   "metadata": {},
   "outputs": [
    {
     "name": "stdout",
     "output_type": "stream",
     "text": [
      "item added to queue\n",
      "item added to queue\n",
      "item added to queue\n",
      "item added to queue\n",
      "[2, 3, 4, 5]\n",
      "item removed from queue\n",
      "[3, 4, 5]\n"
     ]
    }
   ],
   "source": [
    "def add(e):\n",
    "    q.append(e)\n",
    "    print(\"item added to queue\")\n",
    "def delete():\n",
    "    q.pop(0)\n",
    "    print(\"item removed from queue\")\n",
    "q=[]\n",
    "add(2)\n",
    "add(3)\n",
    "add(4)\n",
    "add(5)\n",
    "print(q)\n",
    "delete()\n",
    "print(q)\n",
    "\n",
    "\n",
    "\n"
   ]
  },
  {
   "cell_type": "code",
   "execution_count": null,
   "id": "3ca411e9-ac0d-4dd5-b84f-1e1ec329e815",
   "metadata": {},
   "outputs": [],
   "source": []
  },
  {
   "cell_type": "code",
   "execution_count": null,
   "id": "222adfee-c2ad-4a11-8412-bcb660bd5437",
   "metadata": {},
   "outputs": [],
   "source": []
  }
 ],
 "metadata": {
  "kernelspec": {
   "display_name": "Python 3 (ipykernel)",
   "language": "python",
   "name": "python3"
  },
  "language_info": {
   "codemirror_mode": {
    "name": "ipython",
    "version": 3
   },
   "file_extension": ".py",
   "mimetype": "text/x-python",
   "name": "python",
   "nbconvert_exporter": "python",
   "pygments_lexer": "ipython3",
   "version": "3.12.3"
  }
 },
 "nbformat": 4,
 "nbformat_minor": 5
}
