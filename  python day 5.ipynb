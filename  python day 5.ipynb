{
 "cells": [
  {
   "cell_type": "code",
   "execution_count": 10,
   "id": "a4337dd2-e22a-49c7-bbbd-e58088e076e5",
   "metadata": {},
   "outputs": [
    {
     "name": "stdout",
     "output_type": "stream",
     "text": [
      "configuration of laptop is:\n",
      "processor i5\n",
      "ram 8gb\n",
      "storage 100gb\n",
      "configuration of laptop is:\n",
      "processor i3\n",
      "ram 4gb\n",
      "storage 1000gb\n",
      "configuration of laptop is:\n",
      "processor i3\n",
      "ram 16gb\n",
      "storage 2000gb\n"
     ]
    }
   ],
   "source": [
    "#oops concept\n",
    "class Laptop:\n",
    "    def __init__(self,value1,value2,value3):\n",
    "        self.processor=value1\n",
    "        self.ram=value2\n",
    "        self.storage=value3\n",
    "    def config(self):\n",
    "        print(\"configuration of laptop is:\")\n",
    "        print(\"processor\",self.processor)\n",
    "        print(\"ram\",self.ram)\n",
    "        print(\"storage\",self.storage)\n",
    "if __name__==\"__main__\":\n",
    "    hp=Laptop(\"i5\",\"8gb\",\"100gb\")\n",
    "    lenovo=Laptop(\"i3\",\"4gb\",\"1000gb\")\n",
    "    dell=Laptop(\"i3\",\"16gb\",\"2000gb\")\n",
    "hp.config()#instead of writing print this will do the work\n",
    "lenovo.config()\n",
    "dell.config()\n",
    "\n",
    "    \n",
    "    \n",
    "        \n",
    "            \n",
    "        \n",
    "    "
   ]
  },
  {
   "cell_type": "code",
   "execution_count": 13,
   "id": "b91373b3-0408-47f6-be72-3d8dafbdf776",
   "metadata": {},
   "outputs": [
    {
     "name": "stdout",
     "output_type": "stream",
     "text": [
      "marks are:\n",
      "eng 100\n",
      "kan 90\n",
      "math 80\n",
      "hin 70\n",
      "oops 60\n",
      "80.0\n"
     ]
    }
   ],
   "source": [
    "#create a class student which can hold the marks in 5 subjects and also create a functions to print the marks and calculate the \n",
    "#marks and calculate the avg of 5 subjects:\n",
    "class student:\n",
    "    def __init__(self,value1,value2,value3,value4,value5):\n",
    "        self.eng=value1\n",
    "        self.kan=value2\n",
    "        self.math=value3\n",
    "        self.hin=value4\n",
    "        self.oops=value5\n",
    "    def marks(self):\n",
    "        print(\"marks are:\")\n",
    "        print(\"eng\",self.eng)\n",
    "        print(\"kan\",self.kan)\n",
    "        print(\"math\",self.math)\n",
    "        print(\"hin\",self.hin)\n",
    "        print(\"oops\",self.oops)\n",
    "    def avg(self):\n",
    "        avg=(self.eng+self.kan+self.math+self.hin+self.oops)/5\n",
    "        print(avg)\n",
    "if __name__==\"__main__\":\n",
    "    a=student(100,90,80,70,60)\n",
    "    a.marks()\n",
    "    a.avg()\n",
    "    \n",
    "    \n",
    "        \n",
    "        \n",
    "        \n",
    "        \n",
    "        \n",
    "    \n",
    "    \n",
    "    \n",
    "    \n",
    "\n",
    "\n",
    "\n",
    "\n",
    "\n",
    "\n"
   ]
  },
  {
   "cell_type": "code",
   "execution_count": null,
   "id": "54a58316-f3bf-46ce-b2ba-deb2d8c2f6ed",
   "metadata": {},
   "outputs": [],
   "source": [
    "#access specifiers\n",
    "#public(we use normal)\n",
    "#protected(we use _)\n",
    "#private(we use__)"
   ]
  },
  {
   "cell_type": "code",
   "execution_count": 15,
   "id": "f28138cb-0ab7-4799-ad9b-221a75457d3e",
   "metadata": {},
   "outputs": [
    {
     "name": "stdout",
     "output_type": "stream",
     "text": [
      "this is func1\n",
      "this is func2\n",
      "this is fun3\n",
      "this is fun4\n"
     ]
    }
   ],
   "source": [
    "#inheritance\n",
    "class a:\n",
    "    def fun1(self):\n",
    "        print(\"this is func1\")\n",
    "    def fun2(self):\n",
    "        print(\"this is func2\")\n",
    "class b:\n",
    "    def fun3(self):\n",
    "        print(\"this is fun3\")\n",
    "    def fun4(self):\n",
    "        print(\"this is fun4\")\n",
    "if __name__==\"__main__\":\n",
    "    ob1=a()\n",
    "    ob2=b()\n",
    "    ob1.fun1()\n",
    "    ob1.fun2()\n",
    "    ob2.fun3()\n",
    "    ob2.fun4()\n",
    "    \n",
    "              \n",
    "              "
   ]
  },
  {
   "cell_type": "code",
   "execution_count": 17,
   "id": "91d379f4-f407-4300-bc6c-7f8a537411f9",
   "metadata": {},
   "outputs": [
    {
     "name": "stdout",
     "output_type": "stream",
     "text": [
      "this is func1\n",
      "this is func2\n",
      "this is fun3\n",
      "this is fun4\n",
      "this is func1\n"
     ]
    }
   ],
   "source": [
    "class a:\n",
    "    def fun1(self):\n",
    "        print(\"this is func1\")\n",
    "    def fun2(self):\n",
    "        print(\"this is func2\")\n",
    "class b(a):\n",
    "    def fun3(self):\n",
    "        print(\"this is fun3\")\n",
    "    def fun4(self):\n",
    "        print(\"this is fun4\")\n",
    "if __name__==\"__main__\":\n",
    "    ob1=a()\n",
    "    ob2=b()\n",
    "    ob1.fun1()\n",
    "    ob1.fun2()\n",
    "    ob2.fun3()\n",
    "    ob2.fun4()\n",
    "    ob1.fun1()"
   ]
  },
  {
   "cell_type": "code",
   "execution_count": 20,
   "id": "e8ba6242-ac2b-46da-bd2c-3b96868182b1",
   "metadata": {},
   "outputs": [
    {
     "name": "stdout",
     "output_type": "stream",
     "text": [
      "constructor of class a\n",
      "constructor of class b\n",
      "constructor of class c\n",
      "constructor of class d\n"
     ]
    }
   ],
   "source": [
    "class a:\n",
    "    def __init__(self):\n",
    "        print(\"constructor of class a\")\n",
    "class b:\n",
    "    def __init__(self):\n",
    "        print(\"constructor of class b\")\n",
    "class c:\n",
    "    def __init__(self):\n",
    "        print(\"constructor of class c\")\n",
    "class d:\n",
    "    def __init__(self):\n",
    "        print(\"constructor of class d\")\n",
    "if __name__==\"__main__\":\n",
    "    ob1=a()\n",
    "    ob2=b()\n",
    "    ob3=c()\n",
    "    ob4=d()\n",
    "    \n",
    "\n",
    "    \n",
    "    "
   ]
  },
  {
   "cell_type": "code",
   "execution_count": 22,
   "id": "90ca24dd-eff5-4a70-af58-5f90780e734d",
   "metadata": {},
   "outputs": [
    {
     "name": "stdout",
     "output_type": "stream",
     "text": [
      "constructor of class c\n"
     ]
    }
   ],
   "source": [
    "class a:\n",
    "    def __init__(self):\n",
    "        print(\"constructor of class a\")\n",
    "class b:\n",
    "    def __init__(self):\n",
    "        print(\"constructor of class b\")\n",
    "class c(b):\n",
    "    def __init__(self):\n",
    "        print(\"constructor of class c\")\n",
    "class d:\n",
    "    def __init__(self):\n",
    "        print(\"constructor of class d\")\n",
    "if __name__==\"__main__\":\n",
    "      ob3=c()\n",
    "    \n",
    "\n",
    "    \n",
    "    "
   ]
  },
  {
   "cell_type": "code",
   "execution_count": 7,
   "id": "4a2e0614-f28c-44eb-a62a-5458a54a7c01",
   "metadata": {},
   "outputs": [
    {
     "name": "stdout",
     "output_type": "stream",
     "text": [
      "constructor of class b\n"
     ]
    }
   ],
   "source": [
    "class a:\n",
    "    def __init__(self):\n",
    "        print(\"constructor of class a\")\n",
    "class b:\n",
    "    def __init__(self):\n",
    "        print(\"constructor of class b\")\n",
    "class c(b):\n",
    "    pass\n",
    "    #def __init__(self):\n",
    " #print(\"constructor of class c\")\n",
    "class d:\n",
    "    def __init__(self):\n",
    "        print(\"constructor of class d\")\n",
    "if __name__==\"__main__\":\n",
    "    ob3=c()\n",
    "    \n",
    "\n",
    "    \n",
    "    "
   ]
  },
  {
   "cell_type": "code",
   "execution_count": 13,
   "id": "c81b14ff-4701-4e6e-99f9-d632ca1183fc",
   "metadata": {},
   "outputs": [
    {
     "name": "stdout",
     "output_type": "stream",
     "text": [
      "constructor of class c\n",
      "constructor of class c with 1 5\n",
      "constructor of class c with 1 2\n"
     ]
    }
   ],
   "source": [
    "#default constructor\n",
    "class c:\n",
    "    def __init__(self):\n",
    "        print(\"constructor of class c\")\n",
    "   \n",
    "    def abc(self,a,b=5):\n",
    "        print(\"constructor of class c with\",a,b)\n",
    "ob=c()\n",
    "ob.abc(1)\n",
    "ob.abc(1,2)\n",
    "   "
   ]
  },
  {
   "cell_type": "code",
   "execution_count": 34,
   "id": "2f8e7f6c-4d96-4247-9314-68ee6707052c",
   "metadata": {},
   "outputs": [
    {
     "name": "stdout",
     "output_type": "stream",
     "text": [
      "professional laptop has:\n",
      "configuration of laptop is:\n",
      "processor i3\n",
      "ram 8\n",
      "storage 512\n",
      "batterybackup: 342\n",
      " \n",
      "gaming laptop has:\n",
      "configuration of laptop is:\n",
      "processor i4\n",
      "ram 16\n",
      "storage 487\n",
      "graphiccard= 99\n"
     ]
    }
   ],
   "source": [
    "#multiple inheritance\n",
    "class Laptop:\n",
    "    def __init__(self,value1,value2,value3):\n",
    "        self.processor=value1\n",
    "        self.ram=value2\n",
    "        self.storage=value3\n",
    "    def config(self):\n",
    "        print(\"configuration of laptop is:\")\n",
    "        print(\"processor\",self.processor)\n",
    "        print(\"ram\",self.ram)\n",
    "        print(\"storage\",self.storage)\n",
    "class professionalLaptop(Laptop):\n",
    "    def __init__(self,value1,value2,value3,value4):\n",
    "         self.batterybackup=value4\n",
    "         super().__init__(value1,value2,value3)\n",
    "    def show(self):\n",
    "        print(\"professional laptop has:\")\n",
    "        print(\"configuration of laptop is:\")\n",
    "        print(\"processor\",self.processor)\n",
    "        print(\"ram\",self.ram)\n",
    "        print(\"storage\",self.storage)\n",
    "        print(\"batterybackup:\",self.batterybackup)\n",
    "class gamingLaptop(Laptop):\n",
    "    def __init__(self,value1,value2,value3,value5):\n",
    "         self.graphiccard=value5\n",
    "         super().__init__(value1,value2,value3)\n",
    "    def show(self):\n",
    "        print(\"gaming laptop has:\")\n",
    "        print(\"configuration of laptop is:\")\n",
    "        print(\"processor\",self.processor)\n",
    "        print(\"ram\",self.ram)\n",
    "        print(\"storage\",self.storage)    \n",
    "        print(\"graphiccard=\",self.graphiccard)\n",
    "if __name__==\"__main__\":\n",
    "    obj=professionalLaptop(\"i3\",8,512,342)\n",
    "    obj2=gamingLaptop(\"i4\",16,487,99)\n",
    "    obj.show()\n",
    "    print(\" \")\n",
    "    obj2.show()\n",
    "\n",
    "        \n",
    "        \n",
    "    "
   ]
  },
  {
   "cell_type": "code",
   "execution_count": 39,
   "id": "b47ea924-e42c-4641-ac4d-c2fd902f1cb0",
   "metadata": {},
   "outputs": [
    {
     "name": "stdout",
     "output_type": "stream",
     "text": [
      "Ticket booked Fare Price will be:  4850\n"
     ]
    }
   ],
   "source": [
    "#write a program to demonstrate the working of a railway ticket booking ,create a required classes like ticket class,general ticket,sleeper ticket,Ac ticket ,\n",
    "#first class ticket....show the uses of inheritance in this and create a proper ticket booking model for indian railway...after booking the ticket you have to\n",
    "#show the final ticket price to the customer ...consider only 3 source and destination a)500kms b)600kms c)400kms\n",
    "#booking charges:50 and distance charges:2/km\n",
    "#sleeper charges:2/km ac charges:4/km first charges:5/km\n",
    "\n",
    "class ticket:\n",
    "   \n",
    "    def __init__(self,D):\n",
    "        self.distance = int(D)\n",
    "        self.farePrice = None\n",
    "\n",
    "class gen(ticket):\n",
    "    def __init__(self,D):\n",
    "        super().__init__(D)\n",
    "    def print_ticket(self):\n",
    "        self.farePrice=50+(self.distance*2)\n",
    "        return self.farePrice\n",
    "        \n",
    "\n",
    "\n",
    "class slp(gen):\n",
    "    def __init__(self,D):\n",
    "        super().__init__(D)\n",
    "\n",
    "    def print_ticket(self):\n",
    "        self.farePrice=super().print_ticket()+(2*self.distance)\n",
    "        return self.farePrice\n",
    "\n",
    "class AC(slp):\n",
    "    def __init__(self,D):\n",
    "        super().__init__(D)\n",
    "    def print_ticket(self):\n",
    "        self.farePrice=super().print_ticket()+(4*self.distance)\n",
    "        return self.farePrice\n",
    "\n",
    "class FC(AC):\n",
    "    def __init__(self,D):\n",
    "        super().__init__(D)\n",
    "    def print_ticket(self):\n",
    "        self.farePrice=super().print_ticket()+(5*self.distance)\n",
    "        return self.farePrice\n",
    "\n",
    "\n",
    "jur = AC(600)\n",
    "print(\"Ticket booked Fare Price will be: \",jur.print_ticket())"
   ]
  },
  {
   "cell_type": "code",
   "execution_count": null,
   "id": "d5416522-004e-47e3-b22a-b398e119b280",
   "metadata": {},
   "outputs": [],
   "source": []
  }
 ],
 "metadata": {
  "kernelspec": {
   "display_name": "Python 3 (ipykernel)",
   "language": "python",
   "name": "python3"
  },
  "language_info": {
   "codemirror_mode": {
    "name": "ipython",
    "version": 3
   },
   "file_extension": ".py",
   "mimetype": "text/x-python",
   "name": "python",
   "nbconvert_exporter": "python",
   "pygments_lexer": "ipython3",
   "version": "3.12.3"
  }
 },
 "nbformat": 4,
 "nbformat_minor": 5
}
