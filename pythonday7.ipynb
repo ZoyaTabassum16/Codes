{
 "cells": [
  {
   "cell_type": "code",
   "execution_count": 3,
   "id": "b02515fd-eca8-40e3-a963-3e7cc67b4b31",
   "metadata": {},
   "outputs": [
    {
     "name": "stdout",
     "output_type": "stream",
     "text": [
      "19\n"
     ]
    }
   ],
   "source": [
    "#find the maximum sum of any 3 consecutive numbers\n",
    "L=[2,4,6,1,3,7,4,6,9,3,6,8,3,6,4,1,3,9,6,4,5,6,8,3,7,3,6,8]\n",
    "max=0\n",
    "for x in range(0,len(L)-2):\n",
    "    sum=L[x]+L[x+1]+L[x+2]\n",
    "    if(max<sum):\n",
    "        max=sum\n",
    "print(max)\n",
    "    \n",
    "\n"
   ]
  },
  {
   "cell_type": "code",
   "execution_count": 10,
   "id": "275c33c9-fb8e-4f2a-89f8-248177f74121",
   "metadata": {},
   "outputs": [
    {
     "name": "stdin",
     "output_type": "stream",
     "text": [
      " 6\n"
     ]
    },
    {
     "name": "stdout",
     "output_type": "stream",
     "text": [
      "38\n"
     ]
    }
   ],
   "source": [
    "# sum of n consecutive terms\n",
    "n=int(input())\n",
    "L=[2,4,6,1,3,7,4,6,9,3,6,8,3,6,4,1,3,9,6,4,5,6,8,3,7,3,6,8]\n",
    "max=0\n",
    "for x in range(0,len(L)-(n-1)):\n",
    "    sum=0\n",
    "    for j in range(0,n):\n",
    "        sum=sum+L[x+j]\n",
    "    if(max<sum):\n",
    "        max=sum\n",
    "print(max)\n",
    "    \n",
    "\n"
   ]
  },
  {
   "cell_type": "code",
   "execution_count": 21,
   "id": "17c7ca92-5813-4aae-8dcd-20a396e25a8d",
   "metadata": {},
   "outputs": [
    {
     "name": "stdout",
     "output_type": "stream",
     "text": [
      "[2, 3, 5, 6, 7, 8, 9]\n"
     ]
    }
   ],
   "source": [
    "#sort\n",
    "L=[3,5,2,6,7,8,9]\n",
    "L.sort()\n",
    "print(L)"
   ]
  },
  {
   "cell_type": "code",
   "execution_count": 24,
   "id": "df2cea18-25b2-429b-b256-ef9e1ee17280",
   "metadata": {},
   "outputs": [
    {
     "name": "stdout",
     "output_type": "stream",
     "text": [
      "[2, 3, 5, 6, 7, 8, 9]\n"
     ]
    }
   ],
   "source": [
    "#bubble sort\n",
    "#sort without using any function\n",
    "L=[3,5,2,6,7,8,9]\n",
    "for i in range(0,len(L)):\n",
    "    for j in range(i+1,len(L)):\n",
    "        if L[i]>=L[j]:\n",
    "            L[i],L[j]=L[j],L[i]\n",
    "print(L)"
   ]
  },
  {
   "cell_type": "code",
   "execution_count": 5,
   "id": "d6f02baf-8b44-4d3c-a417-02d58f24f2a6",
   "metadata": {},
   "outputs": [
    {
     "name": "stdout",
     "output_type": "stream",
     "text": [
      "1\n"
     ]
    }
   ],
   "source": [
    "#to find minimun\n",
    "arr=[5,4,8,1,9,6,7]\n",
    "for x in range(0,len(arr)):\n",
    "    m=min(arr)\n",
    "    \n",
    "print(m)"
   ]
  },
  {
   "cell_type": "code",
   "execution_count": 14,
   "id": "263ef5bd-6c2e-4c60-ac2a-004abebba587",
   "metadata": {},
   "outputs": [
    {
     "name": "stdout",
     "output_type": "stream",
     "text": [
      "[0, 1, 3, 4, 6, 7, 8, 9]\n"
     ]
    },
    {
     "name": "stdin",
     "output_type": "stream",
     "text": [
      " 6\n"
     ]
    },
    {
     "name": "stdout",
     "output_type": "stream",
     "text": [
      "element found at 4\n"
     ]
    }
   ],
   "source": [
    "#binary serach\n",
    "#sort asc\n",
    "#find the mid#to find mid:(low+high)/2\n",
    "#compare vth key element\n",
    "l=[9,6,8,7,4,1,3,0]\n",
    "l.sort()\n",
    "print(l)\n",
    "low=0\n",
    "high=len(l)\n",
    "key=int(input())\n",
    "flag=0\n",
    "while low<high:\n",
    "    mid=int((low+high)/2)#find mid element\n",
    "    if key<l[mid]:\n",
    "        high=mid-1\n",
    "    elif key>l[mid]:\n",
    "        low=mid+1\n",
    "    else:\n",
    "        flag==1\n",
    "        break\n",
    "if flag==0:\n",
    "    print(\"element found at\",mid)\n",
    "else:\n",
    "    print(\"not found\")\n",
    "    "
   ]
  },
  {
   "cell_type": "code",
   "execution_count": null,
   "id": "104092d9-ee74-482a-b2a0-e1ec54558bc7",
   "metadata": {},
   "outputs": [],
   "source": []
  }
 ],
 "metadata": {
  "kernelspec": {
   "display_name": "Python 3 (ipykernel)",
   "language": "python",
   "name": "python3"
  },
  "language_info": {
   "codemirror_mode": {
    "name": "ipython",
    "version": 3
   },
   "file_extension": ".py",
   "mimetype": "text/x-python",
   "name": "python",
   "nbconvert_exporter": "python",
   "pygments_lexer": "ipython3",
   "version": "3.12.3"
  }
 },
 "nbformat": 4,
 "nbformat_minor": 5
}
