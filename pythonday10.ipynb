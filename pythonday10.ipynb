{
 "cells": [
  {
   "cell_type": "code",
   "execution_count": 1,
   "id": "4c7e2058-7bac-4945-9a6b-cc8c87305c7b",
   "metadata": {},
   "outputs": [
    {
     "name": "stdout",
     "output_type": "stream",
     "text": [
      "2\n",
      "4\n",
      "6\n",
      "8\n",
      "10\n",
      "12\n",
      "14\n",
      "16\n",
      "18\n",
      "20\n"
     ]
    }
   ],
   "source": [
    "#print 2 table\n",
    "for i in range(1,11):#i=1 is initialisation,range is condition ie <11,i=i+1 is updation\n",
    "    print(2*i)#statement is i*2"
   ]
  },
  {
   "cell_type": "code",
   "execution_count": 2,
   "id": "62a5695e-954c-422c-a12b-947aed64c75e",
   "metadata": {},
   "outputs": [],
   "source": [
    " def fun(i):\n",
    "     if i==11:\n",
    "        return\n",
    "     print(i*2)\n",
    "     i=i+1\n",
    "     fun(i)\n",
    "     return\n",
    "     fun(1)"
   ]
  },
  {
   "cell_type": "code",
   "execution_count": 15,
   "id": "efefae94-612e-494d-9191-183fc8ed899e",
   "metadata": {},
   "outputs": [
    {
     "name": "stdin",
     "output_type": "stream",
     "text": [
      " 5\n"
     ]
    },
    {
     "name": "stdout",
     "output_type": "stream",
     "text": [
      "120\n"
     ]
    }
   ],
   "source": [
    "n=int(input())\n",
    "fact=1\n",
    "for i in range(n,1,-1):#initialisation is i=n,condition is range>1,updation i=1\n",
    "    fact=fact*i#statement\n",
    "print(fact)"
   ]
  },
  {
   "cell_type": "code",
   "execution_count": 3,
   "id": "bef513d9-bae1-43de-a59d-8364b37097f6",
   "metadata": {},
   "outputs": [
    {
     "name": "stdin",
     "output_type": "stream",
     "text": [
      " 5\n"
     ]
    }
   ],
   "source": [
    "n=int(input())\n",
    "def fun(i):\n",
    "    if i==1:\n",
    "        return 1\n",
    "    return i*fun(i-1)\n",
    "fact=fun(n)\n",
    "    "
   ]
  },
  {
   "cell_type": "code",
   "execution_count": 1,
   "id": "7d5b6e19-de01-42c0-93f0-d5155d5302a7",
   "metadata": {},
   "outputs": [],
   "source": [
    "def fib(n):\n",
    "    n=int(input())\n",
    "    for i in range(0,n):\n",
    "        print(i)\n",
    "        return\n",
    "def fib(i):\n",
    "    if i==0 or i==1:\n",
    "        return 1\n",
    "    else:\n",
    "        return fib(i-1)+fib(i-2)\n",
    "\n"
   ]
  },
  {
   "cell_type": "code",
   "execution_count": 3,
   "id": "292fa6f6-d66f-4441-bec7-73d950e1e78d",
   "metadata": {},
   "outputs": [
    {
     "name": "stdout",
     "output_type": "stream",
     "text": [
      "[1, 2, 3, 4, 5, 6, 7, 8, 9]\n"
     ]
    }
   ],
   "source": [
    "#quick sort it is similar as selection sort\n",
    "def findpe(ar,low,high):\n",
    "    pe=ar[high]\n",
    "    j=low-1\n",
    "    for i in range(low,high):\n",
    "        if pe>ar[i]:\n",
    "            j=j+1\n",
    "            ar[i],ar[j]=ar[j],ar[i]\n",
    "    ar[high],ar[j+1]=ar[j+1],ar[high]\n",
    "    return j+1\n",
    "def quicksort(ar,low,high):\n",
    "    if low<high:\n",
    "        pe=findpe(ar,low,high)\n",
    "        quicksort(ar,low,pe-1)\n",
    "        quicksort(ar,pe+1,high)\n",
    "#main\n",
    "ar=[3,5,7,2,4,8,1,9,6]\n",
    "quicksort(ar,0,len(ar)-1)\n",
    "print(ar)\n"
   ]
  },
  {
   "cell_type": "code",
   "execution_count": 4,
   "id": "05265b13-14b3-432e-9719-51400acba20f",
   "metadata": {},
   "outputs": [
    {
     "name": "stdout",
     "output_type": "stream",
     "text": [
      "node 1 <__main__.node object at 0x0000017236802000> 1\n",
      "node 2 <__main__.node object at 0x000001723543F980> 2\n",
      "node 3 <__main__.node object at 0x0000017236947230> 3\n",
      "node 4 <__main__.node object at 0x0000017236947380> 4\n"
     ]
    }
   ],
   "source": [
    "#linked list\n",
    "class node:\n",
    "    def __init__(self,value):\n",
    "        self.data=value\n",
    "        self.next=None\n",
    "head=node(1)\n",
    "head.next=node(2)\n",
    "head.next.next=node(3)\n",
    "head.next.next.next=node(4)\n",
    "print(\"node 1\",head,head.data)\n",
    "print(\"node 2\",head.next,head.next.data)\n",
    "print(\"node 3\",head.next.next,head.next.next.data)\n",
    "print(\"node 4\",head.next.next.next,head.next.next.next.data)"
   ]
  },
  {
   "cell_type": "code",
   "execution_count": null,
   "id": "78a92fb3-7d66-4364-bcc2-09f6614dfd4d",
   "metadata": {},
   "outputs": [],
   "source": []
  }
 ],
 "metadata": {
  "kernelspec": {
   "display_name": "Python 3 (ipykernel)",
   "language": "python",
   "name": "python3"
  },
  "language_info": {
   "codemirror_mode": {
    "name": "ipython",
    "version": 3
   },
   "file_extension": ".py",
   "mimetype": "text/x-python",
   "name": "python",
   "nbconvert_exporter": "python",
   "pygments_lexer": "ipython3",
   "version": "3.12.3"
  }
 },
 "nbformat": 4,
 "nbformat_minor": 5
}
