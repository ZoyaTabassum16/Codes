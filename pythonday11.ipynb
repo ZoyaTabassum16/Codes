{
 "cells": [
  {
   "cell_type": "code",
   "execution_count": 1,
   "id": "44580a18-e17e-47ed-af49-877ad4d7f93e",
   "metadata": {},
   "outputs": [
    {
     "name": "stdin",
     "output_type": "stream",
     "text": [
      "Enter choice:  1\n",
      "Enter value to insert at front:  4\n"
     ]
    },
    {
     "name": "stdout",
     "output_type": "stream",
     "text": [
      "4 --> None\n"
     ]
    }
   ],
   "source": [
    "#SLL insertion in the start,mid and del\n",
    "class Node:\n",
    "    def __init__(self, value):\n",
    "        self.data = value\n",
    "        self.next = None\n",
    "\n",
    "class LinkedList:\n",
    "    def __init__(self):\n",
    "        self.head = None\n",
    "\n",
    "    def front_insert(self, value):\n",
    "        new_node = Node(value)\n",
    "        new_node.next = self.head\n",
    "        self.head = new_node\n",
    "\n",
    "    def end_insert(self, data):\n",
    "        new_node = Node(data)\n",
    "        if self.head is None:\n",
    "            self.head = new_node\n",
    "            return\n",
    "        temp = self.head\n",
    "        while temp.next is not None:\n",
    "            temp = temp.next\n",
    "        temp.next = new_node\n",
    "\n",
    "# Create a linked list object\n",
    "linked_list = LinkedList()\n",
    "\n",
    "# Example usage\n",
    "ch = int(input(\"Enter choice: \"))\n",
    "if ch == 1:\n",
    "    value = int(input(\"Enter value to insert at front: \"))\n",
    "    linked_list.front_insert(value)\n",
    "elif ch == 2:\n",
    "    data = int(input(\"Enter data to insert at end: \"))\n",
    "    linked_list.end_insert(data)\n",
    "# Handle other cases similarly for your other operations\n",
    "\n",
    "# Display the linked list\n",
    "current = linked_list.head\n",
    "while current is not None:\n",
    "    print(current.data, end=\" --> \")\n",
    "    current = current.next\n",
    "print(\"None\")"
   ]
  },
  {
   "cell_type": "code",
   "execution_count": 1,
   "id": "0c99691d-2137-4f06-b5ef-d5ce6e174060",
   "metadata": {},
   "outputs": [
    {
     "name": "stdout",
     "output_type": "stream",
     "text": [
      "preorder traversal\n",
      "1\n",
      "2\n",
      "4\n",
      "5\n",
      "3\n",
      "6\n",
      "7\n",
      "postorder traversal \n",
      "4\n",
      "5\n",
      "2\n",
      "6\n",
      "7\n",
      "3\n",
      "1\n",
      "Inorder traversal \n",
      "4\n",
      "2\n",
      "5\n",
      "1\n",
      "6\n",
      "3\n",
      "7\n",
      "levelorder traversal\n",
      "1 \n",
      "2 3 \n",
      "4 5 6 7 \n"
     ]
    }
   ],
   "source": [
    "#tree traversals\n",
    "class node:\n",
    "    def __init__(self,value):\n",
    "        self.data=value\n",
    "        self.left=None\n",
    "        self.right=None\n",
    "def preorder(root):\n",
    "    if root==None:\n",
    "        return\n",
    "    print(root.data)\n",
    "    preorder(root.left)\n",
    "    preorder(root.right)\n",
    "def postorder(root):\n",
    "    if root==None:\n",
    "        return\n",
    "    postorder(root.left)\n",
    "    postorder(root.right)\n",
    "    print(root.data)\n",
    "def inorder(root):\n",
    "    if root==None:\n",
    "        return\n",
    "    inorder(root.left)\n",
    "    print(root.data)\n",
    "    inorder(root.right)\n",
    "def levelorder(root):\n",
    "    Q=[root,None]\n",
    "    while Q:\n",
    "        curr=Q.pop(0)\n",
    "        if curr==None:\n",
    "            print()\n",
    "            if Q:\n",
    "                Q.append(curr)\n",
    "        else:\n",
    "            print(curr.data,end=\" \")\n",
    "            if curr.left!=None:\n",
    "                Q.append(curr.left)\n",
    "            if curr.right!=None:\n",
    "                Q.append(curr.right)\n",
    "root=node(1)\n",
    "root.left=node(2)\n",
    "root.right=node(3)\n",
    "root.left.left=node(4)\n",
    "root.left.right=node(5)\n",
    "root.right.left=node(6)\n",
    "root.right.right=node(7)\n",
    "print(\"preorder traversal\")\n",
    "preorder(root)\n",
    "print(\"postorder traversal \")\n",
    "postorder(root)\n",
    "print(\"Inorder traversal \")\n",
    "inorder(root)\n",
    "print(\"levelorder traversal\")\n",
    "levelorder(root)"
   ]
  },
  {
   "cell_type": "code",
   "execution_count": null,
   "id": "d15f174e-a41c-40e7-a8cb-686fe295861e",
   "metadata": {},
   "outputs": [],
   "source": []
  }
 ],
 "metadata": {
  "kernelspec": {
   "display_name": "Python 3 (ipykernel)",
   "language": "python",
   "name": "python3"
  },
  "language_info": {
   "codemirror_mode": {
    "name": "ipython",
    "version": 3
   },
   "file_extension": ".py",
   "mimetype": "text/x-python",
   "name": "python",
   "nbconvert_exporter": "python",
   "pygments_lexer": "ipython3",
   "version": "3.12.3"
  }
 },
 "nbformat": 4,
 "nbformat_minor": 5
}
