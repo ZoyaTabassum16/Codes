{
 "cells": [
  {
   "cell_type": "code",
   "execution_count": 1,
   "id": "94a25420-2e94-4cf9-a3e9-6431135fbf5d",
   "metadata": {},
   "outputs": [
    {
     "name": "stdout",
     "output_type": "stream",
     "text": [
      "Ignoring non-numeric value: a\n",
      "Ignoring non-numeric value: b\n",
      "Sum of list elements: 15.5\n"
     ]
    }
   ],
   "source": [
    "#sum\n",
    "a= [1, 2, 3, 'a', 4.5, 'b', 5]    #x means each element present in list a\n",
    "sum= 0\n",
    "for x in a:     #for x in a(for each loop)\n",
    "        try:\n",
    "            sum+=x  #variable=variable+value\n",
    "        except:\n",
    "            print(\"Ignoring non-numeric value:\",x)\n",
    "print(\"Sum of list elements:\",sum)"
   ]
  },
  {
   "cell_type": "code",
   "execution_count": 2,
   "id": "cdcdfcd4-b226-45f3-84f1-f783d64891d7",
   "metadata": {},
   "outputs": [
    {
     "name": "stdin",
     "output_type": "stream",
     "text": [
      "enter the key rohan\n"
     ]
    },
    {
     "name": "stdout",
     "output_type": "stream",
     "text": [
      "99\n",
      "average: 6.725\n"
     ]
    }
   ],
   "source": [
    "#average using dict\n",
    "a={\"rohan\":99,\"priya\":88,\"neha\":64,\"vinay\":38}\n",
    "key =input(\"enter the key\")\n",
    "try:\n",
    "    a.get(key)\n",
    "except:\n",
    "    print(\"empty\")\n",
    "else:\n",
    "    print(a.get(key))\n",
    "    avg=(9.00+8.9+6+3)/4\n",
    "    print(\"average:\",avg)"
   ]
  },
  {
   "cell_type": "code",
   "execution_count": 6,
   "id": "0bfa4f97-79aa-4e09-a8a4-47b17198eb58",
   "metadata": {},
   "outputs": [
    {
     "name": "stdin",
     "output_type": "stream",
     "text": [
      "Enter a character:  y\n"
     ]
    },
    {
     "name": "stdout",
     "output_type": "stream",
     "text": [
      "Lower case character\n"
     ]
    }
   ],
   "source": [
    "#identify character\n",
    "a=input(\"enter a character\")\n",
    "    if char.islower():\n",
    "        print \"Lower case character\"\n",
    "    elif char.isupper():\n",
    "        print \"Upper case character\"\n",
    "    elif char.isdigit():\n",
    "        print \"Numeric character\"\n",
    "    else:\n",
    "        print \"Special character\"\n",
    "print(identify_character(char))"
   ]
  },
  {
   "cell_type": "code",
   "execution_count": 5,
   "id": "210710dd-cf73-4786-9bba-7cd9e852124c",
   "metadata": {},
   "outputs": [
    {
     "name": "stdin",
     "output_type": "stream",
     "text": [
      "Enter a number:  456\n"
     ]
    },
    {
     "name": "stdout",
     "output_type": "stream",
     "text": [
      "Reversed number: 654\n"
     ]
    }
   ],
   "source": [
    "#reverse\n",
    "def reverse_digits(number):\n",
    "    if number < 0:\n",
    "        return int(str(number)[0] + str(number)[:0:-1])\n",
    "    else:\n",
    "        return int(str(number)[::-1])\n",
    "\n",
    "number = int(input(\"Enter a number: \"))\n",
    "print(\"Reversed number:\", reverse_digits(number))"
   ]
  },
  {
   "cell_type": "code",
   "execution_count": 4,
   "id": "97bb5574-07b0-49cf-a2cf-85979639d30d",
   "metadata": {},
   "outputs": [
    {
     "name": "stdin",
     "output_type": "stream",
     "text": [
      "Enter a string:  4\n"
     ]
    },
    {
     "name": "stdout",
     "output_type": "stream",
     "text": [
      "Palindrome\n"
     ]
    }
   ],
   "source": [
    "#palindrome\n",
    "def is_palindrome(s):\n",
    "    s = s.lower()\n",
    "    return s == s[::-1]\n",
    "\n",
    "string = input(\"Enter a string: \")\n",
    "if is_palindrome(string):\n",
    "    print(\"Palindrome\")\n",
    "else:\n",
    "    print(\"Not a palindrome\")"
   ]
  },
  {
   "cell_type": "code",
   "execution_count": 3,
   "id": "659b2b75-9b48-4da7-8486-a720a0033bf6",
   "metadata": {},
   "outputs": [
    {
     "name": "stdin",
     "output_type": "stream",
     "text": [
      "Enter a number:  6\n"
     ]
    },
    {
     "name": "stdout",
     "output_type": "stream",
     "text": [
      "Not prime\n"
     ]
    }
   ],
   "source": [
    "#prime\n",
    "def is_prime(n):\n",
    "    if n <= 1:\n",
    "        return False\n",
    "    for i in range(2, int(n**0.5) + 1):\n",
    "        if n % i == 0:\n",
    "            return False\n",
    "    return True\n",
    "\n",
    "number = int(input(\"Enter a number: \"))\n",
    "if is_prime(number):\n",
    "    print(\"Prime\")\n",
    "else:\n",
    "    print(\"Not prime\")"
   ]
  },
  {
   "cell_type": "code",
   "execution_count": 2,
   "id": "c5f051c1-9521-4fe8-8c55-251f573407b0",
   "metadata": {},
   "outputs": [
    {
     "name": "stdin",
     "output_type": "stream",
     "text": [
      "Enter a number:  4\n"
     ]
    },
    {
     "name": "stdout",
     "output_type": "stream",
     "text": [
      "Factorial: 24\n"
     ]
    }
   ],
   "source": [
    "#factorial\n",
    "def factorial(n):\n",
    "    if n == 0:\n",
    "        return 1\n",
    "    else:\n",
    "        return n * factorial(n - 1)\n",
    "\n",
    "number = int(input(\"Enter a number: \"))\n",
    "print(\"Factorial:\", factorial(number))"
   ]
  },
  {
   "cell_type": "code",
   "execution_count": 1,
   "id": "47b0722e-6c01-42c4-bcee-e449f617fc96",
   "metadata": {
    "scrolled": true
   },
   "outputs": [
    {
     "name": "stdout",
     "output_type": "stream",
     "text": [
      "Welcome to the Arithmetic Operations Program\n",
      "\n",
      "Menu:\n",
      "1. Addition\n",
      "2. Subtraction\n",
      "3. Multiplication\n",
      "4. Division\n",
      "5. Modulus\n",
      "6. Power\n",
      "7. Exit\n"
     ]
    },
    {
     "name": "stdin",
     "output_type": "stream",
     "text": [
      "Enter your choice (1-7):  3\n",
      "Enter first number:  5\n",
      "Enter second number:  4\n"
     ]
    },
    {
     "name": "stdout",
     "output_type": "stream",
     "text": [
      "Result: 20.0\n",
      "\n",
      "Menu:\n",
      "1. Addition\n",
      "2. Subtraction\n",
      "3. Multiplication\n",
      "4. Division\n",
      "5. Modulus\n",
      "6. Power\n",
      "7. Exit\n"
     ]
    },
    {
     "name": "stdin",
     "output_type": "stream",
     "text": [
      "Enter your choice (1-7):  7\n"
     ]
    },
    {
     "name": "stdout",
     "output_type": "stream",
     "text": [
      "Exiting program. Goodbye!\n"
     ]
    }
   ],
   "source": [
    "#arithmetic operations\n",
    "def add(x, y):\n",
    "    return x + y\n",
    "\n",
    "def subtract(x, y):\n",
    "    return x - y\n",
    "\n",
    "def multiply(x, y):\n",
    "    return x * y\n",
    "\n",
    "def divide(x, y):\n",
    "    if y == 0:\n",
    "        return \"Cannot divide by zero\"\n",
    "    return x / y\n",
    "\n",
    "def modulus(x, y):\n",
    "    if y == 0:\n",
    "        return \"Cannot compute modulus with zero divisor\"\n",
    "    return x % y\n",
    "\n",
    "def power(x, y):\n",
    "    return x ** y\n",
    "\n",
    "print(\"Welcome to the Arithmetic Operations Program\")\n",
    "\n",
    "while True:\n",
    "    print(\"\\nMenu:\")\n",
    "    print(\"1. Addition\")\n",
    "    print(\"2. Subtraction\")\n",
    "    print(\"3. Multiplication\")\n",
    "    print(\"4. Division\")\n",
    "    print(\"5. Modulus\")\n",
    "    print(\"6. Power\")\n",
    "    print(\"7. Exit\")\n",
    "\n",
    "    choice = input(\"Enter your choice (1-7): \")\n",
    "\n",
    "    if choice in ('1', '2', '3', '4', '5', '6'):\n",
    "        num1 = float(input(\"Enter first number: \"))\n",
    "        num2 = float(input(\"Enter second number: \"))\n",
    "\n",
    "        if choice == '1':\n",
    "            print(\"Result:\", add(num1, num2))\n",
    "        elif choice == '2':\n",
    "            print(\"Result:\", subtract(num1, num2))\n",
    "        elif choice == '3':\n",
    "            print(\"Result:\", multiply(num1, num2))\n",
    "        elif choice == '4':\n",
    "            print(\"Result:\", divide(num1, num2))\n",
    "        elif choice == '5':\n",
    "            print(\"Result:\", modulus(num1, num2))\n",
    "        elif choice == '6':\n",
    "            print(\"Result:\", power(num1, num2))\n",
    "    elif choice == '7':\n",
    "        print(\"Exiting program. Goodbye!\")\n",
    "        break\n",
    "    else:\n",
    "        print(\"Invalid input. Please enter a number from 1 to 7.\")\n",
    "    "
   ]
  },
  {
   "cell_type": "code",
   "execution_count": 2,
   "id": "1d29c766-52d3-4c6d-b74e-794735b54bf5",
   "metadata": {},
   "outputs": [
    {
     "name": "stdin",
     "output_type": "stream",
     "text": [
      "enter a string tyu\n"
     ]
    },
    {
     "name": "stdout",
     "output_type": "stream",
     "text": [
      "not a palindrome\n"
     ]
    }
   ],
   "source": [
    "a=input(\"enter a string\")#other example for palindrome\n",
    "b=(a[::-1])\n",
    "if a==b:\n",
    "    print(\"is palindrome\")\n",
    "else:\n",
    "    print(\"not a palindrome\")"
   ]
  },
  {
   "cell_type": "code",
   "execution_count": 3,
   "id": "8d5052ac-b9d5-4fda-ad29-0427566a8e21",
   "metadata": {},
   "outputs": [
    {
     "name": "stdin",
     "output_type": "stream",
     "text": [
      "enter a string abcba\n"
     ]
    },
    {
     "name": "stdout",
     "output_type": "stream",
     "text": [
      "is palindrome\n"
     ]
    }
   ],
   "source": [
    "a=input(\"enter a string\")#same one\n",
    "b=(a[::-1])\n",
    "if a==b:\n",
    "    print(\"is palindrome\")\n",
    "else:\n",
    "    print(\"not a palindrome\")"
   ]
  },
  {
   "cell_type": "code",
   "execution_count": 11,
   "id": "172f24ae-20a1-4db9-83dc-708c67062995",
   "metadata": {},
   "outputs": [
    {
     "name": "stdin",
     "output_type": "stream",
     "text": [
      "enter the number 11\n"
     ]
    },
    {
     "name": "stdout",
     "output_type": "stream",
     "text": [
      "is a prime\n"
     ]
    }
   ],
   "source": [
    "a=int(input(\"enter the number\"))#not preffered\n",
    "for x in range(2,int(a/2)):\n",
    "    if a%x==0:\n",
    "        print(\"is not prime\")\n",
    "        break\n",
    "else:\n",
    "    print(\"is a prime\")"
   ]
  },
  {
   "cell_type": "code",
   "execution_count": null,
   "id": "4e9a811d-7f08-48c8-9a8b-7ac30a0a5a5f",
   "metadata": {},
   "outputs": [],
   "source": []
  }
 ],
 "metadata": {
  "kernelspec": {
   "display_name": "Python 3 (ipykernel)",
   "language": "python",
   "name": "python3"
  },
  "language_info": {
   "codemirror_mode": {
    "name": "ipython",
    "version": 3
   },
   "file_extension": ".py",
   "mimetype": "text/x-python",
   "name": "python",
   "nbconvert_exporter": "python",
   "pygments_lexer": "ipython3",
   "version": "3.12.3"
  }
 },
 "nbformat": 4,
 "nbformat_minor": 5
}
