{
 "cells": [
  {
   "cell_type": "code",
   "execution_count": 9,
   "id": "27725f4a-0ff7-430e-8119-6fcd98262932",
   "metadata": {},
   "outputs": [
    {
     "name": "stdout",
     "output_type": "stream",
     "text": [
      "7\n",
      "88\n",
      "7\n",
      "3.7\n"
     ]
    }
   ],
   "source": [
    "x=[7,88,7,3.7,4]\n",
    "for a in range (0,4):\n",
    "    print(x[a])"
   ]
  },
  {
   "cell_type": "code",
   "execution_count": 10,
   "id": "1ce84a19-c73c-4071-8373-95881d0428bf",
   "metadata": {},
   "outputs": [
    {
     "name": "stdout",
     "output_type": "stream",
     "text": [
      "7\n",
      "88\n",
      "7\n",
      "3.7\n",
      "4\n"
     ]
    }
   ],
   "source": [
    "x=[7,88,7,3.7,4]\n",
    "for a in range (0,5):\n",
    "    print(x[a])"
   ]
  },
  {
   "cell_type": "markdown",
   "id": "d3ef50c8-a161-4f9c-ba20-df4d10180890",
   "metadata": {},
   "source": [
    "functions of list\n",
    "pop     to pull out element of the list,raise indexerror if list is empty,,here we are giving the index from where we need to remove the value\n",
    "sort    use to sort the list(reverse=true(if we wan to sort in scending order and vice versa))\n",
    "copy    use to copy the list \n",
    "append  it appends object to the end of the list\n",
    "extend  list by appending elements from the iterable\n",
    "index   return first index of the value,raises valueerror if the value is nnot present\n",
    "count   return number of occurences of the value/it gives us no of duplicates which means number of repeated numbers\n",
    "insert  insert object before the index\n",
    "remove  remove first occurence of the value,here we are giving directly the value tht can be removed\n",
    "len(list))  it will give us the length of the list\n",
    "\n",
    "\n"
   ]
  },
  {
   "cell_type": "code",
   "execution_count": 20,
   "id": "60b536fa-e3ec-45bc-86a0-dd963a5c5d46",
   "metadata": {},
   "outputs": [
    {
     "name": "stdout",
     "output_type": "stream",
     "text": [
      "[1, 2, 3, 4, 5]\n",
      "4\n",
      "[1, 2, 3, 5]\n",
      "[1, 2, 3, 5, 10]\n",
      "2\n",
      "1\n",
      "1\n",
      "[1, 2, 3, 5, 9, 10]\n",
      "[1, 2, 5, 9, 10]\n",
      "[1, 2, 5, 9, 10]\n",
      "[10, 9, 5, 2, 1]\n",
      "5\n",
      "[10, 9, 5, 2, 1, 1, 2, 3, 4, 5]\n"
     ]
    }
   ],
   "source": [
    "a=[1,2,3,4,5]\n",
    "b=a.copy()\n",
    "print(b)\n",
    "\n",
    "c=b.pop(3)\n",
    "print(c)\n",
    "\n",
    "print(b)\n",
    "b.append(10)\n",
    "print(b)\n",
    "\n",
    "print(b.index(3))\n",
    "print(b.count(3))\n",
    "print(b.count(10))\n",
    "b.insert(4,9)\n",
    "print(b)\n",
    "b.remove(3)\n",
    "print(b)\n",
    "\n",
    "b.sort()\n",
    "print(b)\n",
    "b.sort(reverse=True)\n",
    "print(b)\n",
    "print(len(b))\n",
    "b.extend(a)\n",
    "print(b)\n"
   ]
  },
  {
   "cell_type": "code",
   "execution_count": 21,
   "id": "f0738843-0514-4c5d-b8b0-ad3bf25bc1fd",
   "metadata": {},
   "outputs": [
    {
     "name": "stdout",
     "output_type": "stream",
     "text": [
      "1\n",
      "2\n",
      "3\n",
      "4\n",
      "55\n",
      "667\n",
      "5\n",
      "88\n",
      "99\n",
      "67\n",
      "556\n",
      "89\n",
      "5\n",
      "98\n",
      "87\n",
      "88\n"
     ]
    }
   ],
   "source": [
    "#for each loop\n",
    "a=[1,2,3,4,55,667,5,88,99,67,556,89,5,98,87,88,]\n",
    "for x in a:\n",
    "    print(x) #each value will be printed"
   ]
  },
  {
   "cell_type": "code",
   "execution_count": 1,
   "id": "30dbc0c8-5f14-49ac-9694-5a297a747cff",
   "metadata": {},
   "outputs": [
    {
     "name": "stdin",
     "output_type": "stream",
     "text": [
      "enter the size of list 5\n",
      " 3\n",
      " 4\n",
      " 3\n",
      " 2\n",
      " 1\n"
     ]
    },
    {
     "name": "stdout",
     "output_type": "stream",
     "text": [
      "['3', '4', '3', '2', '1']\n"
     ]
    }
   ],
   "source": [
    "n=int(input(\"enter the size of list\"))\n",
    "a=[]\n",
    "for x in range(0,n):\n",
    "    x=input()\n",
    "    a.append(x)\n",
    "print(a)"
   ]
  },
  {
   "cell_type": "code",
   "execution_count": 4,
   "id": "d0524b9b-d9bb-4827-a102-a0ffc5679450",
   "metadata": {},
   "outputs": [
    {
     "name": "stdin",
     "output_type": "stream",
     "text": [
      "enter the elements of the list: 1 2 3 4 5 5 4\n"
     ]
    },
    {
     "name": "stdout",
     "output_type": "stream",
     "text": [
      "[1, 2, 3, 4, 5, 5, 4]\n"
     ]
    }
   ],
   "source": [
    "#0r\n",
    "L=[int(item)for item in(input(\"enter the elements of the list:\").split())]\n",
    "print(L)"
   ]
  },
  {
   "cell_type": "code",
   "execution_count": 6,
   "id": "223cabf2-4d3f-49e9-82dd-339170615899",
   "metadata": {},
   "outputs": [
    {
     "name": "stdout",
     "output_type": "stream",
     "text": [
      "[1, 2, 3, 4, 5]\n"
     ]
    }
   ],
   "source": [
    "a=list([1,2,3,4,5])\n",
    "print(a)"
   ]
  },
  {
   "cell_type": "code",
   "execution_count": null,
   "id": "aee46ff7-644c-4006-83a3-7a2bbfa495db",
   "metadata": {},
   "outputs": [],
   "source": [
    "#tuples\n",
    "once a tupple is created we cannot chnge anythn,ie we cannot update here as in list\n",
    "if we want to do any chnges thn we need to convert tuple into list ie done by\n",
    "b=list(a)\n",
    "print(a)"
   ]
  },
  {
   "cell_type": "code",
   "execution_count": 8,
   "id": "83a05e42-9425-4491-ae89-67eec59649e6",
   "metadata": {},
   "outputs": [
    {
     "name": "stdout",
     "output_type": "stream",
     "text": [
      "(1, 2, 3, 4, 5, 'zo')\n",
      "[1, 2, 3, 4, 5, 'zo']\n",
      "(1, 2, 3, 4, 5, 'zooo')\n"
     ]
    }
   ],
   "source": [
    "a=(1,2,3,4,5,\"zo\")\n",
    "print(a)\n",
    "b=list(a)\n",
    "print(b)\n",
    "b[5]=\"zooo\"\n",
    "a=tuple(b)\n",
    "print(a)"
   ]
  },
  {
   "cell_type": "code",
   "execution_count": 16,
   "id": "d670257f-e50a-47b3-95bf-27a2f5fbdb3a",
   "metadata": {},
   "outputs": [
    {
     "name": "stdout",
     "output_type": "stream",
     "text": [
      "5\n",
      "4\n",
      "3\n",
      "2\n",
      "1\n"
     ]
    }
   ],
   "source": [
    "a=[1,2,3,4,5]\n",
    "for x in range(-1,-1*(len(a)+1),-1):#reverse of list without using any function\n",
    "    print(a[x])"
   ]
  },
  {
   "cell_type": "code",
   "execution_count": 17,
   "id": "de765942-9524-428b-b5c3-3110276f99df",
   "metadata": {},
   "outputs": [
    {
     "name": "stdout",
     "output_type": "stream",
     "text": [
      "8\n",
      "7\n",
      "6\n",
      "5\n",
      "4\n",
      "3\n",
      "2\n",
      "1\n"
     ]
    }
   ],
   "source": [
    "#or\n",
    "a=(1,2,3,4,5,6,7,8)\n",
    "for x in range(0,len(a)):\n",
    "    print(a[-1*(x+1)])"
   ]
  },
  {
   "cell_type": "code",
   "execution_count": null,
   "id": "34226872-4498-4789-8223-26d7887344f3",
   "metadata": {},
   "outputs": [],
   "source": [
    "#dictionary\n",
    "it is a set of key and values\n",
    "key values pair"
   ]
  },
  {
   "cell_type": "code",
   "execution_count": 22,
   "id": "09e2e207-0bce-4094-9ec4-bc43d59c90ec",
   "metadata": {},
   "outputs": [
    {
     "name": "stdout",
     "output_type": "stream",
     "text": [
      "{1: 'zoy', 2: 'taa', 3: 'rty'}\n",
      "taa\n"
     ]
    },
    {
     "ename": "KeyError",
     "evalue": "'taa'",
     "output_type": "error",
     "traceback": [
      "\u001b[1;31m---------------------------------------------------------------------------\u001b[0m",
      "\u001b[1;31mKeyError\u001b[0m                                  Traceback (most recent call last)",
      "Cell \u001b[1;32mIn[22], line 4\u001b[0m\n\u001b[0;32m      2\u001b[0m \u001b[38;5;28mprint\u001b[39m(D)\n\u001b[0;32m      3\u001b[0m \u001b[38;5;28mprint\u001b[39m(D[\u001b[38;5;241m2\u001b[39m])\n\u001b[1;32m----> 4\u001b[0m \u001b[38;5;28mprint\u001b[39m(\u001b[43mD\u001b[49m\u001b[43m[\u001b[49m\u001b[38;5;124;43m\"\u001b[39;49m\u001b[38;5;124;43mtaa\u001b[39;49m\u001b[38;5;124;43m\"\u001b[39;49m\u001b[43m]\u001b[49m)\n",
      "\u001b[1;31mKeyError\u001b[0m: 'taa'"
     ]
    }
   ],
   "source": [
    "D={1:\"zoy\",2:\"taa\",3:\"rty\"}#here 1 is key and zoy is value\n",
    "print(D)\n",
    "print(D[2])#it only takes key\n",
    "print(D[\"taa\"])#here it wont take values"
   ]
  },
  {
   "cell_type": "code",
   "execution_count": null,
   "id": "32b0928c-1147-42cd-a1b3-65520d5337e8",
   "metadata": {},
   "outputs": [],
   "source": [
    "functions in dict\n",
    "copy \n",
    "keys give the key of particular value\n",
    "value\n",
    "item\n",
    "pop\n",
    "get function if key is there it will give that value if no it will give none       #subscript can be given as a key value"
   ]
  },
  {
   "cell_type": "code",
   "execution_count": 25,
   "id": "b58e0092-8c2e-4f0f-a690-44e2fc448ba6",
   "metadata": {},
   "outputs": [
    {
     "name": "stdout",
     "output_type": "stream",
     "text": [
      "dict_keys([1, 2, 3])\n",
      "dict_values(['zoy', 'taa', 'rty'])\n",
      "dict_items([(1, 'zoy'), (2, 'taa'), (3, 'rty')])\n",
      "taa\n",
      "None\n"
     ]
    }
   ],
   "source": [
    "print(D.keys())\n",
    "print(D.values())\n",
    "print(D.items())\n",
    "print(D.get(2))\n",
    "print(D.get(4))#coz four not der so none"
   ]
  },
  {
   "cell_type": "code",
   "execution_count": null,
   "id": "8cdb02ec-c568-419f-b251-118445395a69",
   "metadata": {},
   "outputs": [],
   "source": [
    "# write a program to take key and value as input from a user and add it into the dictionary if key is not present in dictionary otherwise\n",
    "#print key already exist and also print its corresponding value"
   ]
  },
  {
   "cell_type": "code",
   "execution_count": 29,
   "id": "e83bd3ef-d9ac-4cd3-ade8-8219a2760659",
   "metadata": {},
   "outputs": [
    {
     "name": "stdin",
     "output_type": "stream",
     "text": [
      " 2\n",
      " sana\n"
     ]
    },
    {
     "name": "stdout",
     "output_type": "stream",
     "text": [
      "sana\n",
      "not present\n"
     ]
    }
   ],
   "source": [
    "key=int(input())\n",
    "value=(input())\n",
    "D={1:\"zoya\",2:\"sana\",3:\"rumana\"}\n",
    "print(D.get(key))\n",
    "if key is True:\n",
    "    print(\"present\")\n",
    "else:\n",
    "    print(\"not present\")\n"
   ]
  },
  {
   "cell_type": "code",
   "execution_count": 18,
   "id": "22c57362-b78b-45cf-943e-560a642a840a",
   "metadata": {},
   "outputs": [
    {
     "name": "stdin",
     "output_type": "stream",
     "text": [
      "enter the index number 11\n"
     ]
    },
    {
     "name": "stdout",
     "output_type": "stream",
     "text": [
      "index out of  bound\n",
      "error handelled\n"
     ]
    }
   ],
   "source": [
    "a=[1,2.3,4,6,8,\"zo\",\"sarah\",\"sana\",\"rumana\",9]\n",
    "index=int(input(\"enter the index number\"))\n",
    "try:\n",
    "    a[index]\n",
    "except:\n",
    "    print(\"index out of  bound\")\n",
    "else:\n",
    "     print(\"value received\",a[index])\n",
    "    \n",
    "finally:\n",
    "    print(\"error handelled\")\n",
    "   \n",
    "    \n"
   ]
  },
  {
   "cell_type": "code",
   "execution_count": 4,
   "id": "f41514f5-82aa-454a-bf3b-cb90255ef981",
   "metadata": {},
   "outputs": [
    {
     "name": "stdin",
     "output_type": "stream",
     "text": [
      " 2\n",
      " 5\n"
     ]
    },
    {
     "name": "stdout",
     "output_type": "stream",
     "text": [
      "Some unknown Error Found\n",
      "code execution done\n"
     ]
    }
   ],
   "source": [
    "try:\n",
    "    a=input()\n",
    "    b=input()\n",
    "    c=int(a)/int(b)\n",
    "    x=\"hello\"/3\n",
    "except ValueError:\n",
    "    print(\"value unable to convert\")\n",
    "except ZeroDivisionError:\n",
    "    print(\"cant divide by zero\")\n",
    "except:\n",
    "    print(\"Some unknown Error Found\")\n",
    "else:\n",
    "    print(\"no error\")\n",
    "finally:\n",
    "    print(\"code execution done\")\n",
    "    \n"
   ]
  },
  {
   "cell_type": "code",
   "execution_count": 1,
   "id": "f606a1d6-663c-4175-989e-156072e778f4",
   "metadata": {},
   "outputs": [],
   "source": [
    "#write a python program to find the sum of all the elements in a list and handle the case if it consists of numeric value\n",
    "create a dictionary containing name of a student wap to "
   ]
  },
  {
   "cell_type": "code",
   "execution_count": 11,
   "id": "41b48e76-7543-47ff-8868-6b057e3986d7",
   "metadata": {},
   "outputs": [
    {
     "name": "stdout",
     "output_type": "stream",
     "text": [
      "1\n",
      "a\n",
      "non numeric value\n",
      "7\n",
      "c\n",
      "non numeric value\n",
      "5\n",
      "t\n",
      "non numeric value\n"
     ]
    }
   ],
   "source": [
    "a=[1,\"a\",7,\"c\",5,\"t\"]\n",
    "sum=0\n",
    "for x in a:\n",
    "    print(x)\n",
    "    if isinstance(x,(int,float)):\n",
    "        sum+=x\n",
    "    else:\n",
    "        print(\"non numeric value\")\n",
    "        \n",
    "    "
   ]
  },
  {
   "cell_type": "code",
   "execution_count": 9,
   "id": "07bec99e-7a77-478f-8cb3-2c31e156bba5",
   "metadata": {},
   "outputs": [
    {
     "ename": "SyntaxError",
     "evalue": "invalid syntax. Perhaps you forgot a comma? (1696650985.py, line 3)",
     "output_type": "error",
     "traceback": [
      "\u001b[1;36m  Cell \u001b[1;32mIn[9], line 3\u001b[1;36m\u001b[0m\n\u001b[1;33m    print(\"the sum of all elements is:\",find sum(a))\u001b[0m\n\u001b[1;37m                                        ^\u001b[0m\n\u001b[1;31mSyntaxError\u001b[0m\u001b[1;31m:\u001b[0m invalid syntax. Perhaps you forgot a comma?\n"
     ]
    }
   ],
   "source": [
    " def find_sum(a):\n",
    "     a=[1,\"a\",7,\"c\",5,\"t\"]\n",
    "     print(\"the sum of all elements is:\",find sum(a))"
   ]
  },
  {
   "cell_type": "code",
   "execution_count": 12,
   "id": "c53437ca-b344-4f9d-91e5-e6a5376ccc38",
   "metadata": {},
   "outputs": [
    {
     "name": "stdout",
     "output_type": "stream",
     "text": [
      "Non-numeric value 'a' found and ignored.\n",
      "Non-numeric value 'b' found and ignored.\n",
      "Sum of all numeric elements in the list: 15.5\n"
     ]
    }
   ],
   "source": [
    "def find_sum(lst):\n",
    "    total = 0\n",
    "    for element in lst:\n",
    "        if isinstance(element, (int, float)):\n",
    "            total += element\n",
    "        else:\n",
    "            print(f\"Non-numeric value '{element}' found and ignored.\")\n",
    "    return total\n",
    "\n",
    "# Example usage:\n",
    "my_list = [1, 2, 3, 'a', 4.5, 'b', 5]\n",
    "print(\"Sum of all numeric elements in the list:\", find_sum(my_list))"
   ]
  },
  {
   "cell_type": "code",
   "execution_count": 14,
   "id": "395ac281-ca9e-4cdf-b217-d2d197cc201e",
   "metadata": {},
   "outputs": [
    {
     "name": "stdout",
     "output_type": "stream",
     "text": [
      "Ignoring non-numeric value: a\n",
      "Ignoring non-numeric value: b\n",
      "Sum of list elements: 15.5\n"
     ]
    }
   ],
   "source": [
    "def sum_list_elements(lst):\n",
    "    total = 0\n",
    "    for element in lst:\n",
    "        try:\n",
    "            total += element  #variable=variable+value\n",
    "        except TypeError:\n",
    "            print(f\"Ignoring non-numeric value: {element}\")\n",
    "    return total\n",
    "\n",
    "# Example usage:\n",
    "my_list = [1, 2, 3, 'a', 4.5, 'b', 5]\n",
    "print(\"Sum of list elements:\", sum_list_elements(my_list))"
   ]
  },
  {
   "cell_type": "code",
   "execution_count": 32,
   "id": "8b73158c-49c3-498b-8836-80df41f99eaf",
   "metadata": {},
   "outputs": [
    {
     "name": "stdout",
     "output_type": "stream",
     "text": [
      "Ignoring non-numeric value: a\n",
      "Ignoring non-numeric value: b\n",
      "Sum of list elements: 15.5\n"
     ]
    }
   ],
   "source": [
    "#actual one\n",
    "a= [1, 2, 3, 'a', 4.5, 'b', 5]    #x means each element present in list a\n",
    "sum= 0\n",
    "for x in a:     #for x in a(for each loop)\n",
    "        try:\n",
    "            sum+=x  #variable=variable+value\n",
    "        except:\n",
    "            print(\"Ignoring non-numeric value:\",x)\n",
    "print(\"Sum of list elements:\",sum)"
   ]
  },
  {
   "cell_type": "code",
   "execution_count": 5,
   "id": "d3b4dccc-6139-4c4b-b163-5922d9165b60",
   "metadata": {},
   "outputs": [
    {
     "name": "stdout",
     "output_type": "stream",
     "text": [
      "average is 0.0\n"
     ]
    }
   ],
   "source": [
    "D={\"abc\":9,\"xyz\":8.5,\"fgh\":7,\"uji\":4.5}\n",
    "total=0\n",
    "for x in D:\n",
    "    try:\n",
    "        total+=x\n",
    "        avg=total/4\n",
    "    except:\n",
    "        if x==0:\n",
    "            print(\"dictionary empty\")\n",
    "else:\n",
    "    print(\"average is\",avg)\n",
    "    \n",
    "    "
   ]
  },
  {
   "cell_type": "code",
   "execution_count": 13,
   "id": "9cbe5fa2-3f3c-4475-9fa4-2295e9e2d549",
   "metadata": {},
   "outputs": [
    {
     "name": "stdin",
     "output_type": "stream",
     "text": [
      "enter key Bob\n"
     ]
    },
    {
     "ename": "ValueError",
     "evalue": "invalid literal for int() with base 10: 'Bob'",
     "output_type": "error",
     "traceback": [
      "\u001b[1;31m---------------------------------------------------------------------------\u001b[0m",
      "\u001b[1;31mValueError\u001b[0m                                Traceback (most recent call last)",
      "Cell \u001b[1;32mIn[13], line 7\u001b[0m\n\u001b[0;32m      1\u001b[0m grades \u001b[38;5;241m=\u001b[39m {\n\u001b[0;32m      2\u001b[0m     \u001b[38;5;124m\"\u001b[39m\u001b[38;5;124mAlice\u001b[39m\u001b[38;5;124m\"\u001b[39m: \u001b[38;5;241m85\u001b[39m,\n\u001b[0;32m      3\u001b[0m     \u001b[38;5;124m\"\u001b[39m\u001b[38;5;124mBob\u001b[39m\u001b[38;5;124m\"\u001b[39m: \u001b[38;5;241m72\u001b[39m,\n\u001b[0;32m      4\u001b[0m     \u001b[38;5;124m\"\u001b[39m\u001b[38;5;124mCharlie\u001b[39m\u001b[38;5;124m\"\u001b[39m: \u001b[38;5;241m90\u001b[39m,\n\u001b[0;32m      5\u001b[0m     \u001b[38;5;124m\"\u001b[39m\u001b[38;5;124mDavid\u001b[39m\u001b[38;5;124m\"\u001b[39m: \u001b[38;5;241m65\u001b[39m\n\u001b[0;32m      6\u001b[0m }\n\u001b[1;32m----> 7\u001b[0m key\u001b[38;5;241m=\u001b[39m\u001b[38;5;28;43mint\u001b[39;49m\u001b[43m(\u001b[49m\u001b[38;5;28;43minput\u001b[39;49m\u001b[43m(\u001b[49m\u001b[38;5;124;43m\"\u001b[39;49m\u001b[38;5;124;43menter key\u001b[39;49m\u001b[38;5;124;43m\"\u001b[39;49m\u001b[43m)\u001b[49m\u001b[43m)\u001b[49m\n\u001b[0;32m      8\u001b[0m \u001b[38;5;28;01mif\u001b[39;00m grades\u001b[38;5;241m==\u001b[39m\u001b[38;5;241m0\u001b[39m:\n\u001b[0;32m      9\u001b[0m     \u001b[38;5;28mprint\u001b[39m(\u001b[38;5;124m\"\u001b[39m\u001b[38;5;124mThere are no grades to calculate.\u001b[39m\u001b[38;5;124m\"\u001b[39m)\n",
      "\u001b[1;31mValueError\u001b[0m: invalid literal for int() with base 10: 'Bob'"
     ]
    }
   ],
   "source": [
    "grades = {\n",
    "    \"Alice\": 85,\n",
    "    \"Bob\": 72,\n",
    "    \"Charlie\": 90,\n",
    "    \"David\": 65\n",
    "}\n",
    "key=int(input(\"enter key\"))\n",
    "if grades==0:\n",
    "    print(\"There are no grades to calculate.\")\n",
    "else:\n",
    "    # Calculate the average grade\n",
    "    avg=((85+72+90+65)/4)\n",
    "\n",
    "    # Print the average grade\n",
    "    print(\"Average grade:\",avg)\n"
   ]
  },
  {
   "cell_type": "code",
   "execution_count": null,
   "id": "16f8f928-20b2-4d23-87cb-99462044f5ed",
   "metadata": {},
   "outputs": [],
   "source": [
    "Example dictionary of student names and their grades\n",
    "grades = {\n",
    "    \"Alice\": 85,\n",
    "    \"Bob\": 72,\n",
    "    \"Charlie\": 90,\n",
    "    \"David\": 65\n",
    "}\n",
    "\n",
    "# Check if the dictionary is empty\n",
    "if not grades:\n",
    "    print(\"There are no grades to calculate.\")\n",
    "else:\n",
    "    # Calculate the average grade\n",
    "    average_grade = sum(grades.values()) / len(grades)\n",
    "\n",
    "    # Print the average grade\n",
    "    print(\"Average grade:\", average_grade)\n"
   ]
  },
  {
   "cell_type": "code",
   "execution_count": 14,
   "id": "80d48540-0e51-45c1-a6c8-9254fa4f4f41",
   "metadata": {},
   "outputs": [
    {
     "name": "stdout",
     "output_type": "stream",
     "text": [
      "Average grade: 78.0\n"
     ]
    }
   ],
   "source": [
    "# Example dictionary of student names and their grades\n",
    "grades = {\n",
    "    \"Alice\": 85,\n",
    "    \"Bob\": 72,\n",
    "    \"Charlie\": 90,\n",
    "    \"David\": 65\n",
    "}\n",
    "\n",
    "try:\n",
    "    # Calculate the average grade\n",
    "    average_grade = sum(grades.values()) / len(grades)\n",
    "    print(\"Average grade:\", average_grade)\n",
    "except ZeroDivisionError:\n",
    "    print(\"There are no grades to calculate.\")\n"
   ]
  },
  {
   "cell_type": "code",
   "execution_count": 6,
   "id": "6bdde569-5968-4c26-8a2d-d78810211ff7",
   "metadata": {},
   "outputs": [
    {
     "name": "stdin",
     "output_type": "stream",
     "text": [
      "enter the key zoya\n"
     ]
    },
    {
     "name": "stdout",
     "output_type": "stream",
     "text": [
      "None\n",
      "average: 6.725\n"
     ]
    }
   ],
   "source": [
    "a={\"rohan\":99,\"priya\":88,\"neha\":64,\"vinay\":38}\n",
    "key =input(\"enter the key\")\n",
    "try:\n",
    "    a.get(key)\n",
    "except:\n",
    "    print(\"empty\")\n",
    "else:\n",
    "    print(a.get(key))\n",
    "    avg=(9.00+8.9+6+3)/4\n",
    "    print(\"average:\",avg)"
   ]
  },
  {
   "cell_type": "code",
   "execution_count": null,
   "id": "7e16f55b-c364-4dbb-b3d7-69bb0be5683e",
   "metadata": {},
   "outputs": [],
   "source": []
  }
 ],
 "metadata": {
  "kernelspec": {
   "display_name": "Python 3 (ipykernel)",
   "language": "python",
   "name": "python3"
  },
  "language_info": {
   "codemirror_mode": {
    "name": "ipython",
    "version": 3
   },
   "file_extension": ".py",
   "mimetype": "text/x-python",
   "name": "python",
   "nbconvert_exporter": "python",
   "pygments_lexer": "ipython3",
   "version": "3.12.3"
  }
 },
 "nbformat": 4,
 "nbformat_minor": 5
}
