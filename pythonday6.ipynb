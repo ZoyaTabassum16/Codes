{
 "cells": [
  {
   "cell_type": "code",
   "execution_count": 15,
   "id": "8cc71d15-00db-4da2-8f70-b4ec3a741d4a",
   "metadata": {},
   "outputs": [
    {
     "name": "stdout",
     "output_type": "stream",
     "text": [
      "configuration of vehicle is:\n",
      "engine: 56cc\n",
      "regplate: 123\n",
      "price: 10000\n",
      "colour: brown\n",
      "configuration of car is:\n",
      "type: benz\n",
      "no of passengers: 100\n",
      "maxspeed: 11km\n",
      " \n",
      "configuration of vehicle is:\n",
      "engine: 57cc\n",
      "regplate: 124\n",
      "price: 110000\n",
      "colour: pink\n",
      "configuration of truck is:\n",
      "noofaxle: 89\n",
      "load capacity: 100kg\n"
     ]
    }
   ],
   "source": [
    "class Vehicle:\n",
    "    def __init__(self,e,r,p,c):\n",
    "        self.engine=e\n",
    "        self.regplate=r\n",
    "        self.price=p\n",
    "        self.colour=c\n",
    "    def config(self):\n",
    "        print(\"configuration of vehicle is:\")\n",
    "        print(\"engine:\",self.engine)\n",
    "        print(\"regplate:\",self.regplate)\n",
    "        print(\"price:\",self.price)\n",
    "        print(\"colour:\",self.colour)\n",
    "class Car(Vehicle):\n",
    "    def __init__(self,e,r,p,c,t,np,ms):\n",
    "         self.type=t\n",
    "         self.noofpassengers=np\n",
    "         self.maxspeed=ms\n",
    "         super().__init__(e,r,p,c)\n",
    "    def show(self):\n",
    "        super().config()\n",
    "        print(\"configuration of car is:\")\n",
    "        print(\"type:\",self.type)\n",
    "        print(\"no of passengers:\",self.noofpassengers)\n",
    "        print(\"maxspeed:\",self.maxspeed)\n",
    "class Truck( Vehicle):\n",
    "    def __init__(self,e,r,p,c,na,lc):\n",
    "         self.noofaxle=na\n",
    "         self.loadcapacity=lc\n",
    "         super().__init__(e,r,p,c)\n",
    "    def show(self):\n",
    "        super().config()\n",
    "        print(\"configuration of truck is:\")\n",
    "        print(\"noofaxle:\",self.noofaxle)\n",
    "        print(\"load capacity:\",self.loadcapacity)\n",
    "if __name__==\"__main__\":\n",
    "    obj=Car(\"56cc\",123,10000,\"brown\",\"benz\",100,\"11km\")\n",
    "    obj2=Truck(\"57cc\",124,110000,\"pink\",89,\"100kg\")\n",
    "    obj.show()\n",
    "    print(\" \")\n",
    "    obj2.show()\n",
    "\n",
    "        \n",
    "        \n",
    "        "
   ]
  },
  {
   "cell_type": "code",
   "execution_count": 17,
   "id": "78f01ada-31d1-453f-95e0-99291546ffda",
   "metadata": {},
   "outputs": [
    {
     "name": "stdout",
     "output_type": "stream",
     "text": [
      "details of employee is:\n",
      "eid: ai189\n",
      "ename: zoya\n",
      "esalary: 100000\n",
      "details of staffis:\n",
      "work type: clerk\n",
      "work area: company\n",
      " \n",
      "details of employee is:\n",
      "eid: ai140\n",
      "ename: sarah\n",
      "esalary: 110000\n",
      "details of Developer is:\n",
      "module: front end\n",
      "tech: python\n",
      "experience: 3 years\n",
      " \n",
      "details of employee is:\n",
      "eid: ai143\n",
      "ename: sana\n",
      "esalary: 120000\n",
      "details of manager is:\n",
      "project: app development\n",
      "client name: rumana\n"
     ]
    }
   ],
   "source": [
    "class Employee:\n",
    "    def __init__(self,a,b,c):\n",
    "        self.eid=a\n",
    "        self.ename=b\n",
    "        self.esalary=c\n",
    "    def show(self):\n",
    "        print(\"details of employee is:\")\n",
    "        print(\"eid:\",self.eid)\n",
    "        print(\"ename:\",self.ename)\n",
    "        print(\"esalary:\",self.esalary)\n",
    "class Staff(Employee):\n",
    "    def __init__(self,a,b,c,d,e):\n",
    "         self.worktype=d\n",
    "         self.workarea=e\n",
    "         super().__init__(a,b,c)\n",
    "    def show(self):\n",
    "        super().show()\n",
    "        print(\"details of staffis:\")\n",
    "        print(\"work type:\",self.worktype)\n",
    "        print(\"work area:\",self.workarea)\n",
    "class Developer(Employee):\n",
    "    def __init__(self,a,b,c,f,g,h):\n",
    "         self.module=f\n",
    "         self.tech=g\n",
    "         self.experience=h\n",
    "         super().__init__(a,b,c)\n",
    "    def show(self):\n",
    "        super().show()\n",
    "        print(\"details of Developer is:\")\n",
    "        print(\"module:\",self.module)\n",
    "        print(\"tech:\",self.tech)\n",
    "        print(\"experience:\",self.experience)\n",
    "class Manager(Employee):\n",
    "    def __init__(self,a,b,c,i,j):\n",
    "         self.project=i\n",
    "         self.clientname=j\n",
    "         super().__init__(a,b,c)\n",
    "    def show(self):\n",
    "        super().show()\n",
    "        print(\"details of manager is:\")\n",
    "        print(\"project:\",self.project)\n",
    "        print(\"client name:\",self.clientname)\n",
    "if __name__==\"__main__\":\n",
    "    obj=Staff(\"ai189\",\"zoya\",100000,\"clerk\",\"company\")\n",
    "    obj2=Developer(\"ai140\",\"sarah\",110000,\"front end\",\"python\",\"3 years\")\n",
    "    obj3=Manager(\"ai143\",\"sana\",120000,\"app development\",\"rumana\")\n",
    "    obj.show()\n",
    "    print(\" \")\n",
    "    obj2.show()\n",
    "    print(\" \")\n",
    "    obj3.show()\n",
    "\n",
    "        \n",
    "        "
   ]
  },
  {
   "cell_type": "code",
   "execution_count": 21,
   "id": "1dff87f9-5fdc-4a65-bd36-00205e1b84f5",
   "metadata": {},
   "outputs": [
    {
     "name": "stdout",
     "output_type": "stream",
     "text": [
      "* \n",
      "* * \n",
      "* * * \n",
      "* * * * \n",
      "* * * * * \n"
     ]
    }
   ],
   "source": [
    "for i in range(0,5):\n",
    "    for j in range(0,i+1):\n",
    "        print(\"*\",end=\" \")\n",
    "    print()"
   ]
  },
  {
   "cell_type": "code",
   "execution_count": 29,
   "id": "c00c99a3-402e-45c5-9db1-ba39250a89d3",
   "metadata": {},
   "outputs": [
    {
     "name": "stdout",
     "output_type": "stream",
     "text": [
      "* * * * * \n",
      "* * * * \n",
      "* * * \n",
      "* * \n",
      "* \n"
     ]
    }
   ],
   "source": [
    "for i in range(0,5):\n",
    "    for j in range(0,5-i):\n",
    "        print(\"*\",end=\" \")\n",
    "    print()"
   ]
  },
  {
   "cell_type": "code",
   "execution_count": 30,
   "id": "f2790c15-5e01-4628-8d10-a6d68d029707",
   "metadata": {},
   "outputs": [
    {
     "name": "stdout",
     "output_type": "stream",
     "text": [
      "* * * * * \n",
      "* * * * * \n",
      "* * * * * \n",
      "* * * * * \n",
      "* * * * * \n"
     ]
    }
   ],
   "source": [
    "for i in range(0,5):\n",
    "    for j in range(0,5):\n",
    "        print(\"*\",end=\" \")\n",
    "    print()"
   ]
  },
  {
   "cell_type": "code",
   "execution_count": 65,
   "id": "c6eaabee-aa07-43ae-8b0c-2eb317cfd4d1",
   "metadata": {},
   "outputs": [
    {
     "name": "stdin",
     "output_type": "stream",
     "text": [
      "enter the number: 6\n"
     ]
    },
    {
     "name": "stdout",
     "output_type": "stream",
     "text": [
      "* * * * * * \n",
      "*         * \n",
      "*         * \n",
      "*         * \n",
      "*         * \n",
      "* * * * * * \n"
     ]
    }
   ],
   "source": [
    "n=int(input(\"enter the number:\"))\n",
    "for i in range(0,n):\n",
    "    for j in range(0,n):\n",
    "        if i==(n-1) or j==(n-1) or i==0 or j==0:\n",
    "            print(\"*\",end=\" \")\n",
    "        else:\n",
    "            print(\" \",end=\" \")\n",
    "    print()"
   ]
  },
  {
   "cell_type": "code",
   "execution_count": null,
   "id": "37219f9a-bdc4-4a5c-8dfc-5b7b4f767e20",
   "metadata": {},
   "outputs": [],
   "source": []
  }
 ],
 "metadata": {
  "kernelspec": {
   "display_name": "Python 3 (ipykernel)",
   "language": "python",
   "name": "python3"
  },
  "language_info": {
   "codemirror_mode": {
    "name": "ipython",
    "version": 3
   },
   "file_extension": ".py",
   "mimetype": "text/x-python",
   "name": "python",
   "nbconvert_exporter": "python",
   "pygments_lexer": "ipython3",
   "version": "3.12.3"
  }
 },
 "nbformat": 4,
 "nbformat_minor": 5
}
