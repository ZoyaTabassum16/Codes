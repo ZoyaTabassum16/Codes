{
 "cells": [
  {
   "cell_type": "code",
   "execution_count": 9,
   "id": "78382604-92d2-478e-b6c4-1276a10c18f4",
   "metadata": {},
   "outputs": [
    {
     "name": "stdin",
     "output_type": "stream",
     "text": [
      "enter your name: zoya\n",
      "enter your age 65\n"
     ]
    },
    {
     "name": "stdout",
     "output_type": "stream",
     "text": [
      "zoya\n",
      "you are eligible\n"
     ]
    }
   ],
   "source": [
    "name=input(\"enter your name:\")\n",
    "age=int(input(\"enter your age\"))\n",
    "if age>=18:\n",
    "   print(name)\n",
    "   print(\"you are eligible\")\n",
    "else:\n",
    "   print(name)\n",
    "   print(\"you are not eligible\")  \n"
   ]
  },
  {
   "cell_type": "code",
   "execution_count": 11,
   "id": "61522e8e-c864-4f31-b4ae-d1a826a0583a",
   "metadata": {},
   "outputs": [
    {
     "name": "stdin",
     "output_type": "stream",
     "text": [
      "enter the number 56\n"
     ]
    },
    {
     "name": "stdout",
     "output_type": "stream",
     "text": [
      "fine\n"
     ]
    }
   ],
   "source": [
    "\n",
    "attendance=int(input(\"enter the number\"))\n",
    "if attendance>=85:\n",
    "    print(\"no fine\")\n",
    "else:\n",
    "    print(\"fine\")\n",
    "               "
   ]
  },
  {
   "cell_type": "code",
   "execution_count": 13,
   "id": "53e4f268-1549-4f2f-bc16-b4e427c220c2",
   "metadata": {},
   "outputs": [
    {
     "name": "stdin",
     "output_type": "stream",
     "text": [
      "enter a number 56\n",
      "enter b number 67\n"
     ]
    },
    {
     "name": "stdout",
     "output_type": "stream",
     "text": [
      "b is big\n"
     ]
    }
   ],
   "source": [
    "a=int(input(\"enter a number\"))\n",
    "b=int(input(\"enter b number\"))\n",
    "if(a>b):\n",
    "      print(\"a is big\")\n",
    "else:\n",
    "      print(\"b is big\")\n"
   ]
  },
  {
   "cell_type": "code",
   "execution_count": 16,
   "id": "b46469b2-4367-4152-a87f-0e9179502d4f",
   "metadata": {},
   "outputs": [
    {
     "name": "stdin",
     "output_type": "stream",
     "text": [
      " 5\n",
      " 5\n",
      " 8\n"
     ]
    },
    {
     "name": "stdout",
     "output_type": "stream",
     "text": [
      "c is greater\n"
     ]
    }
   ],
   "source": [
    "a=int(input())\n",
    "b=int(input())\n",
    "c=int(input())\n",
    "if a>b:\n",
    "   if a>c:\n",
    "    print(\"a is greater\")\n",
    "   else:\n",
    "    print(\"c is greater\")\n",
    "else:\n",
    "   if b>c:\n",
    "    print(\"b is greater\")\n",
    "   else:\n",
    "    print(\"c is greater\")\n"
   ]
  },
  {
   "cell_type": "code",
   "execution_count": 25,
   "id": "dd4e36de-5748-4f1b-973a-da15eb610d8e",
   "metadata": {},
   "outputs": [
    {
     "name": "stdin",
     "output_type": "stream",
     "text": [
      "enter the marks 66\n"
     ]
    },
    {
     "name": "stdout",
     "output_type": "stream",
     "text": [
      "b\n"
     ]
    }
   ],
   "source": [
    "marks=int(input(\"enter the marks\"))\n",
    "if marks>=90 and marks<=100:\n",
    "   print(\"A+\")\n",
    "else:\n",
    "    if marks>=80 and marks<90:\n",
    "      print(\"A\")\n",
    "    else:\n",
    "        if marks>=70 and marks<80:\n",
    "            print(\"b+\")\n",
    "        else:\n",
    "            if marks>=60 and marks<70:\n",
    "                print(\"b\")\n",
    "            else:\n",
    "                if marks>=50 and marks<60:\n",
    "                    print(\"c\")\n",
    "                else:\n",
    "                    if marks>=40 and marks<50:\n",
    "                        print(\"d\")\n",
    "                    else:\n",
    "                        if marks>=30 and marks<40:\n",
    "                            print(\"e\")\n",
    "                        else:\n",
    "                            if marks>=0 and marks<30:\n",
    "                                print(\"f\")\n",
    "                            else:\n",
    "                                print(\"invalid choice\")\n",
    "             \n",
    "\n",
    "\n",
    "\n",
    "\n",
    "\n",
    "\n",
    "\n",
    "\n"
   ]
  },
  {
   "cell_type": "code",
   "execution_count": 31,
   "id": "595a0492-2bc9-4d2c-99fb-f24d9c200a5b",
   "metadata": {},
   "outputs": [
    {
     "name": "stdin",
     "output_type": "stream",
     "text": [
      "enter the marks 89\n"
     ]
    },
    {
     "name": "stdout",
     "output_type": "stream",
     "text": [
      "A\n"
     ]
    }
   ],
   "source": [
    "marks=int(input(\"enter the marks\"))\n",
    "if marks>=90 and marks<=100:\n",
    "    print(\"A+\")\n",
    "elif marks>=80 and marks<90:\n",
    "    print(\"A\")\n",
    "elif marks>=70 and marks<80:\n",
    "    print(\"b+\")\n",
    "elif marks>=60 and marks<70:\n",
    "    print(\"b\")\n",
    "elif marks>=50 and marks<60:\n",
    "    print(\"c\")\n",
    "elif marks>=40 and marks<50:\n",
    "    print(\"d\")\n",
    "elif marks>=30 and marks<40:\n",
    "    print(\"e\")\n",
    "elif marks>=0 and marks<30:\n",
    "    print(\"f\")\n",
    "else:\n",
    "     print(\"invalid choice\")"
   ]
  },
  {
   "cell_type": "code",
   "execution_count": 35,
   "id": "d5c6ab64-0fdb-4c7e-8a78-2ebd5f877215",
   "metadata": {},
   "outputs": [
    {
     "name": "stdout",
     "output_type": "stream",
     "text": [
      "1\n",
      "2\n",
      "3\n",
      "4\n",
      "5\n",
      "6\n",
      "7\n",
      "8\n",
      "9\n"
     ]
    }
   ],
   "source": [
    "for x in range(1,10):\n",
    "    print(x)"
   ]
  },
  {
   "cell_type": "code",
   "execution_count": null,
   "id": "48ae726f-a431-409d-ac96-5720ee71b0c7",
   "metadata": {},
   "outputs": [],
   "source": [
    "x=0 #initialization\n",
    "while(x<10): #condition\n",
    "    print(x) #working statement\n",
    "    x=x+1 #increment and decrement"
   ]
  },
  {
   "cell_type": "code",
   "execution_count": 36,
   "id": "c6b84389-34eb-4398-9495-bc402c02cc1f",
   "metadata": {},
   "outputs": [
    {
     "name": "stdout",
     "output_type": "stream",
     "text": [
      "0   1\n",
      "0   2\n",
      "0   3\n",
      "0   4\n",
      "0   5\n",
      "0   6\n",
      "0   7\n",
      "0   8\n",
      "0   9\n",
      "1   1\n",
      "1   2\n",
      "1   3\n",
      "1   4\n",
      "1   5\n",
      "1   6\n",
      "1   7\n",
      "1   8\n",
      "1   9\n",
      "2   1\n",
      "2   2\n",
      "2   3\n",
      "2   4\n",
      "2   5\n",
      "2   6\n",
      "2   7\n",
      "2   8\n",
      "2   9\n",
      "3   1\n",
      "3   2\n",
      "3   3\n",
      "3   4\n",
      "3   5\n",
      "3   6\n",
      "3   7\n",
      "3   8\n",
      "3   9\n",
      "4   1\n",
      "4   2\n",
      "4   3\n",
      "4   4\n",
      "4   5\n",
      "4   6\n",
      "4   7\n",
      "4   8\n",
      "4   9\n",
      "5   1\n",
      "5   2\n",
      "5   3\n",
      "5   4\n",
      "5   5\n",
      "5   6\n",
      "5   7\n",
      "5   8\n",
      "5   9\n",
      "6   1\n",
      "6   2\n",
      "6   3\n",
      "6   4\n",
      "6   5\n",
      "6   6\n",
      "6   7\n",
      "6   8\n",
      "6   9\n",
      "7   1\n",
      "7   2\n",
      "7   3\n",
      "7   4\n",
      "7   5\n",
      "7   6\n",
      "7   7\n",
      "7   8\n",
      "7   9\n",
      "8   1\n",
      "8   2\n",
      "8   3\n",
      "8   4\n",
      "8   5\n",
      "8   6\n",
      "8   7\n",
      "8   8\n",
      "8   9\n",
      "9   1\n",
      "9   2\n",
      "9   3\n",
      "9   4\n",
      "9   5\n",
      "9   6\n",
      "9   7\n",
      "9   8\n",
      "9   9\n"
     ]
    }
   ],
   "source": [
    "for y in range(0,10):\n",
    "    for x in range(1,10):\n",
    "        print(y,\" \",x)"
   ]
  },
  {
   "cell_type": "code",
   "execution_count": 39,
   "id": "f96f08e4-80f7-48c3-a986-9c81e0823f4b",
   "metadata": {},
   "outputs": [
    {
     "name": "stdout",
     "output_type": "stream",
     "text": [
      "*\n",
      "**\n",
      "***\n",
      "****\n",
      "*****\n",
      "******\n",
      "*******\n",
      "********\n",
      "*********\n",
      "**********\n"
     ]
    }
   ],
   "source": [
    "for y in range(0,10):\n",
    "    for x in range(0,y+1):\n",
    "        print(\"*\",end=\"\")\n",
    "print()"
   ]
  },
  {
   "cell_type": "code",
   "execution_count": 10,
   "id": "2bc2dd87-f879-4a38-9638-2a6a43aa1918",
   "metadata": {},
   "outputs": [
    {
     "name": "stdin",
     "output_type": "stream",
     "text": [
      "enter the limit 6\n"
     ]
    },
    {
     "name": "stdout",
     "output_type": "stream",
     "text": [
      "0  \n",
      "1  \n",
      "2  \n",
      "3  \n",
      "4  \n",
      "5  \n"
     ]
    },
    {
     "ename": "SyntaxError",
     "evalue": "'return' outside function (4277388305.py, line 5)",
     "output_type": "error",
     "traceback": [
      "\u001b[1;36m  Cell \u001b[1;32mIn[10], line 5\u001b[1;36m\u001b[0m\n\u001b[1;33m    return 1\u001b[0m\n\u001b[1;37m    ^\u001b[0m\n\u001b[1;31mSyntaxError\u001b[0m\u001b[1;31m:\u001b[0m 'return' outside function\n"
     ]
    }
   ],
   "source": [
    "n=int(input(\"enter the limit\"))\n",
    "for i in range(0,n):\n",
    "          print(i,\" \")\n",
    "if i==0 or i==1:\n",
    "   return 1\n",
    "else:\n",
    "   return(fib(i-1)+fib(i-2))"
   ]
  },
  {
   "cell_type": "code",
   "execution_count": 18,
   "id": "60f9f8da-64c4-4d60-882d-7589657359c0",
   "metadata": {},
   "outputs": [
    {
     "name": "stdin",
     "output_type": "stream",
     "text": [
      "enter the sequence 5\n"
     ]
    },
    {
     "name": "stdout",
     "output_type": "stream",
     "text": [
      "0 1 1 2 3 "
     ]
    }
   ],
   "source": [
    "a=0\n",
    "b=1\n",
    "n=int(input(\"enter the sequence\"))\n",
    "print(a,b,end=\" \")\n",
    "for x in range(0,n-2):\n",
    "          c=a+b\n",
    "          print(c,end=\" \")\n",
    "          a=b\n",
    "          b=c"
   ]
  },
  {
   "cell_type": "code",
   "execution_count": null,
   "id": "4c22bda9-998b-4598-a577-7e088703ab70",
   "metadata": {},
   "outputs": [],
   "source": []
  }
 ],
 "metadata": {
  "kernelspec": {
   "display_name": "Python 3 (ipykernel)",
   "language": "python",
   "name": "python3"
  },
  "language_info": {
   "codemirror_mode": {
    "name": "ipython",
    "version": 3
   },
   "file_extension": ".py",
   "mimetype": "text/x-python",
   "name": "python",
   "nbconvert_exporter": "python",
   "pygments_lexer": "ipython3",
   "version": "3.12.3"
  }
 },
 "nbformat": 4,
 "nbformat_minor": 5
}
