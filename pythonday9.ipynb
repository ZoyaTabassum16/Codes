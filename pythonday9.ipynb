{
 "cells": [
  {
   "cell_type": "code",
   "execution_count": 7,
   "id": "48307ab3-4be7-4e5b-a6d1-09c4305de910",
   "metadata": {},
   "outputs": [
    {
     "name": "stdin",
     "output_type": "stream",
     "text": [
      " zoya tabassum\n"
     ]
    },
    {
     "name": "stdout",
     "output_type": "stream",
     "text": [
      "mussabat ayoz"
     ]
    }
   ],
   "source": [
    "#reverse a string using stack \n",
    "a=input()\n",
    "s=[]\n",
    "for e in a:\n",
    "    s.append(e)\n",
    "while len(s)>0:\n",
    "    print(s.pop(),end=\"\")"
   ]
  },
  {
   "cell_type": "code",
   "execution_count": 3,
   "id": "2dfcff49-065b-40c0-878b-b7744c0bce28",
   "metadata": {},
   "outputs": [
    {
     "name": "stdin",
     "output_type": "stream",
     "text": [
      " zoya tabassum\n"
     ]
    },
    {
     "name": "stdout",
     "output_type": "stream",
     "text": [
      "tabassum zoya "
     ]
    }
   ],
   "source": [
    "#revrse a words using stack\n",
    "a=input()\n",
    "s=[]\n",
    "for e in a.split():\n",
    "    s.append(e)\n",
    "while len(s)>0:\n",
    "    print(s.pop(),end=\" \")"
   ]
  },
  {
   "cell_type": "code",
   "execution_count": 7,
   "id": "4383ee55-b71d-4f39-bb31-aaec8061feed",
   "metadata": {},
   "outputs": [
    {
     "name": "stdin",
     "output_type": "stream",
     "text": [
      " a+b*(a+b)\n"
     ]
    },
    {
     "name": "stdout",
     "output_type": "stream",
     "text": [
      " abab+*+\n"
     ]
    }
   ],
   "source": [
    "#infix to postfix\n",
    "def prec(e):\n",
    "    if e==\"^\":\n",
    "        return 3\n",
    "    elif e ==\"*\" or e==\"/\":\n",
    "        return 2\n",
    "    elif e== \"+\" or e==\"-\":\n",
    "        return 1\n",
    "    else:\n",
    "        return -1\n",
    "def asoc(e):\n",
    "    if e==\"^\":\n",
    "        return \"R\"\n",
    "    else:\n",
    "        return \"L\"\n",
    "a=input()\n",
    "s=[]\n",
    "res =\" \"\n",
    "for e in a:\n",
    "    if e.isalnum():\n",
    "        res += e\n",
    "    elif e =='(':\n",
    "        s.append(e)\n",
    "    elif e ==')':\n",
    "        while  s[-1] != '(':\n",
    "            res += s.pop()\n",
    "        s.pop()\n",
    "    else:\n",
    "        while s and (prec(e)<prec(s[-1]) or \n",
    "                     (prec(e)==prec(s[-1]) and asoc(e)=='L')):\n",
    "            res +=s.pop()\n",
    "        s.append(e)\n",
    "    \n",
    "while s:\n",
    "    res += s.pop()\n",
    "print(res)"
   ]
  },
  {
   "cell_type": "code",
   "execution_count": 9,
   "id": "75c399e7-5150-4227-b4cc-b9371a02bfe3",
   "metadata": {},
   "outputs": [
    {
     "name": "stdin",
     "output_type": "stream",
     "text": [
      " A D C R R A A D R D C C\n"
     ]
    },
    {
     "name": "stdout",
     "output_type": "stream",
     "text": [
      "['A', 'D', 'C', 'R', 'R', 'A', 'A', 'D', 'R', 'D', 'C', 'C']\n",
      "6 ['A', 'D', 'C', 'D', 'R', 'D']\n"
     ]
    }
   ],
   "source": [
    "a=[item for item in input().split()]\n",
    "print(a)\n",
    "s=[]\n",
    "for item in a:\n",
    "    if not s:\n",
    "        s.append(item)\n",
    "    elif s[-1] == item:\n",
    "        s.pop()\n",
    "    else:\n",
    "        s.append(item)\n",
    "print(len(s),s)"
   ]
  },
  {
   "cell_type": "code",
   "execution_count": null,
   "id": "86df2e5a-5860-47a9-8894-c5d436031864",
   "metadata": {},
   "outputs": [],
   "source": [
    "#valid string\n",
    "s=input()\n",
    "x=y=z=0\n",
    "for c in s:\n",
    "    match(c):\n",
    "     case'(':x+=1\n",
    "     case')':x-=1\n",
    "     case'{':y+=1\n",
    "     case'}':y-=1\n",
    "     case'[':z+=1\n",
    "     case']':z-=1\n",
    "     case _ :continue\n",
    "if x+y+z == 0:\n",
    "    print(\"valid string\")\n",
    "else:\n",
    "    print(\"invalid string\")"
   ]
  },
  {
   "cell_type": "code",
   "execution_count": 28,
   "id": "2d88438a-7844-4a1e-ba64-0321f9b2c583",
   "metadata": {},
   "outputs": [
    {
     "name": "stdin",
     "output_type": "stream",
     "text": [
      " ({)}\n"
     ]
    },
    {
     "name": "stdout",
     "output_type": "stream",
     "text": [
      "invalid\n"
     ]
    }
   ],
   "source": [
    "#balanced string\n",
    "str=input()\n",
    "s=[]\n",
    "for e in str:\n",
    "    if e == '(' or e == \"{\" or e== \"[\":\n",
    "        s.append(e)\n",
    "    elif (e == ')' and s[-1]=='(') or (e =='}' and s[-1]=='{') or (e ==']' and s[-1]=='['):\n",
    "            s.pop()\n",
    "    else:\n",
    "        continue\n",
    "if not s:\n",
    "    print(\"valid\")\n",
    "else:\n",
    "    print(\"invalid\")\n",
    "\n",
    "\n"
   ]
  },
  {
   "cell_type": "code",
   "execution_count": null,
   "id": "b834312b-449c-4c9f-9d44-e735de86cd5f",
   "metadata": {},
   "outputs": [],
   "source": []
  }
 ],
 "metadata": {
  "kernelspec": {
   "display_name": "Python 3 (ipykernel)",
   "language": "python",
   "name": "python3"
  },
  "language_info": {
   "codemirror_mode": {
    "name": "ipython",
    "version": 3
   },
   "file_extension": ".py",
   "mimetype": "text/x-python",
   "name": "python",
   "nbconvert_exporter": "python",
   "pygments_lexer": "ipython3",
   "version": "3.12.3"
  }
 },
 "nbformat": 4,
 "nbformat_minor": 5
}
