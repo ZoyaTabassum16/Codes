{
 "cells": [
  {
   "cell_type": "code",
   "execution_count": null,
   "id": "93a7a386-8781-46f0-9e0b-cec98790555d",
   "metadata": {},
   "outputs": [],
   "source": [
    "file handling\n",
    "#operations\n",
    "create\n",
    "read\n",
    "update\n",
    "delete\n",
    "this is termed as CRUD operation"
   ]
  },
  {
   "cell_type": "code",
   "execution_count": null,
   "id": "75e62b05-2d86-4a68-bfd2-f80775b0c906",
   "metadata": {},
   "outputs": [],
   "source": [
    "import os\n",
    "if_name_=='_main_':\n",
    "filename=\"example.txt\"\n",
    "new_filename=\"new_example.txt\"\n",
    "\n",
    "create_file(filename)\n",
    "read_file(filename)\n",
    "append_file(filename,\"this is some additional text.\\n\")\n",
    "read_file(filename)\n",
    "rename_file(filename,new_filename)\n",
    "read_file(new_filename)\n",
    "delete_file(new_filename)"
   ]
  },
  {
   "cell_type": "code",
   "execution_count": 6,
   "id": "64095496-20ff-424c-a2ac-4d461c5d16a2",
   "metadata": {},
   "outputs": [],
   "source": [
    "import os#create a file and write in it\n",
    "with open(\"zoya.txt\",'w')as f:\n",
    "    f.write(\"this is my 1st file\\n\")\n",
    "\n"
   ]
  },
  {
   "cell_type": "code",
   "execution_count": 7,
   "id": "085a19da-bcec-4156-b13b-5471cf5c4055",
   "metadata": {},
   "outputs": [],
   "source": [
    "import os#append file\n",
    "with open(\"zoya.txt\",'a')as f:\n",
    "    f.write(\"this is my 2nd file\")\n"
   ]
  },
  {
   "cell_type": "code",
   "execution_count": 9,
   "id": "1c3a2b32-69c4-4a75-adea-c0f8692dfbda",
   "metadata": {},
   "outputs": [
    {
     "name": "stdout",
     "output_type": "stream",
     "text": [
      "this is my 1st file\n",
      "this is my 2nd file\n"
     ]
    }
   ],
   "source": [
    "import os#read file(ie read contents present in the created file)\n",
    "with open(\"zoya.txt\",'r')as f:\n",
    "    a=f.read()\n",
    "    print(a)\n",
    "    f.close()\n"
   ]
  },
  {
   "cell_type": "code",
   "execution_count": 22,
   "id": "c33b5c60-4026-4165-a231-9d93951fc63f",
   "metadata": {},
   "outputs": [
    {
     "name": "stdout",
     "output_type": "stream",
     "text": [
      "['this', 'is', 'my', '1st', 'file', 'this', 'is', 'my', '2nd', 'file']\n"
     ]
    }
   ],
   "source": [
    "import os#read using split \n",
    "with open(\"new.txt\",'r')as f:#new file name \n",
    "    a=f.read().split()\n",
    "    print(a)\n",
    "    f.close()\n"
   ]
  },
  {
   "cell_type": "code",
   "execution_count": 17,
   "id": "86125c93-7607-46a9-99f7-e038c74ffa11",
   "metadata": {},
   "outputs": [],
   "source": [
    "import os#\n",
    "os.rename(\"zoya.txt\",\"new.txt\")\n",
    "f.close()\n"
   ]
  },
  {
   "cell_type": "code",
   "execution_count": 25,
   "id": "e368cac6-4e1e-4a77-8f73-64758f03e47e",
   "metadata": {},
   "outputs": [
    {
     "name": "stdin",
     "output_type": "stream",
     "text": [
      "enter the temp 0\n"
     ]
    },
    {
     "name": "stdout",
     "output_type": "stream",
     "text": [
      "32.0\n"
     ]
    }
   ],
   "source": [
    "temp=int(input(\"enter the temp\"))#celsius to fahrenheit\n",
    "temp=temp*(5/9)+32\n",
    "print(temp)"
   ]
  },
  {
   "cell_type": "code",
   "execution_count": 12,
   "id": "b63cb609-14e5-44e1-8c11-094506f3d5ff",
   "metadata": {},
   "outputs": [
    {
     "name": "stdin",
     "output_type": "stream",
     "text": [
      "enter apple\n",
      "enter banana\n",
      "enter mango\n"
     ]
    },
    {
     "name": "stdout",
     "output_type": "stream",
     "text": [
      "apple\n",
      "banana\n",
      "mango\n",
      "\n"
     ]
    },
    {
     "name": "stdin",
     "output_type": "stream",
     "text": [
      "enter the name to be replaced: banana\n",
      "enter the new name: watermelon\n"
     ]
    },
    {
     "name": "stdout",
     "output_type": "stream",
     "text": [
      "apple\n",
      "watermelon\n",
      "mango\n",
      "\n",
      "name replaced successfully\n"
     ]
    }
   ],
   "source": [
    "#replace text in file\n",
    "import os\n",
    "with open(\"fruits.txt\",'w')as f:\n",
    "    f.write(input(\"enter\")+'\\n')\n",
    "    f.write(input(\"enter\")+'\\n')\n",
    "    f.write(input(\"enter\")+'\\n')\n",
    "with open(\"fruits.txt\",'r')as f:\n",
    "    x=f.read()\n",
    "    print(x)\n",
    "q=input(\"enter the name to be replaced:\")\n",
    "w=input(\"enter the new name:\")\n",
    "with open(\"fruits.txt\",'r')as f:\n",
    "    x=f.read()\n",
    "y=x.replace(\"banana\",\"watermelon\")\n",
    "with open(\"fruits.txt\",'w')as f:\n",
    "    f.write(\"apple\\nwatermelon\\nmango\")\n",
    "with open(\"fruits.txt\",'r')as f:\n",
    "    x=f.read()\n",
    "    print(y)\n",
    "print(\"name replaced successfully\")\n",
    "f.close()"
   ]
  },
  {
   "cell_type": "code",
   "execution_count": 8,
   "id": "c19cbb3b-f8d9-443a-92c0-2b0fd6da6bcd",
   "metadata": {},
   "outputs": [
    {
     "name": "stdout",
     "output_type": "stream",
     "text": [
      "the second largest element is: 89\n"
     ]
    }
   ],
   "source": [
    "#print the second largest number in the list(method 1)\n",
    "a=[99,89,79,69,59]\n",
    "print(\"the second largest element is:\",a[1])\n",
    "\n",
    "\n",
    "    "
   ]
  },
  {
   "cell_type": "code",
   "execution_count": 18,
   "id": "4c4884a6-8c93-4dc6-8284-479515d4bcd8",
   "metadata": {},
   "outputs": [
    {
     "name": "stdout",
     "output_type": "stream",
     "text": [
      "the second largest element is: 89\n"
     ]
    }
   ],
   "source": [
    "#(method 2)\n",
    "a=[89,67,53,90,55]\n",
    "a.sort()\n",
    "print(\"the second largest element is:\",a[3])"
   ]
  },
  {
   "cell_type": "code",
   "execution_count": 30,
   "id": "7e6a0b18-a24d-485b-8f22-4803464c335f",
   "metadata": {},
   "outputs": [
    {
     "name": "stdout",
     "output_type": "stream",
     "text": [
      "the reversed list is: ['d', 'c', 'b', 'a']\n"
     ]
    }
   ],
   "source": [
    "#reverse a list\n",
    "a=[\"a\",\"b\",\"c\",\"d\"]\n",
    "b=(a[::-1])\n",
    "print(\"the reversed list is:\",b)"
   ]
  },
  {
   "cell_type": "code",
   "execution_count": 32,
   "id": "2b631320-8ce3-41f2-8e8d-7681417a0bbb",
   "metadata": {},
   "outputs": [
    {
     "name": "stdin",
     "output_type": "stream",
     "text": [
      "enter the string my name is zoya\n"
     ]
    },
    {
     "name": "stdout",
     "output_type": "stream",
     "text": [
      "the reversed list is: ayoz si eman ym\n"
     ]
    }
   ],
   "source": [
    "#reverse words in a sentence \n",
    "a=input(\"enter the string\")\n",
    "b=(a[::-1])\n",
    "print(\"the reversed list is:\",b)\n"
   ]
  },
  {
   "cell_type": "code",
   "execution_count": 6,
   "id": "66354fdd-23d6-4e32-ab56-0bbeb2818b11",
   "metadata": {},
   "outputs": [
    {
     "name": "stdin",
     "output_type": "stream",
     "text": [
      "enter the string: zoya tabassum\n"
     ]
    },
    {
     "name": "stdout",
     "output_type": "stream",
     "text": [
      "The number of vowels in the string is: 5\n"
     ]
    }
   ],
   "source": [
    "#count the number of vowels\n",
    "a=input(\"enter the string:\")\n",
    "count=0\n",
    "for x in range(0,len(a)):\n",
    "    if a[x] in \"aeiou\":\n",
    "        count=count+1\n",
    "print(\"The number of vowels in the string is:\",count)\n",
    "    \n"
   ]
  },
  {
   "cell_type": "code",
   "execution_count": 1,
   "id": "177ec18c-689e-4098-b66e-338c75d83d79",
   "metadata": {},
   "outputs": [
    {
     "name": "stdin",
     "output_type": "stream",
     "text": [
      "print the number 1\n"
     ]
    },
    {
     "name": "stdout",
     "output_type": "stream",
     "text": [
      "2\n"
     ]
    }
   ],
   "source": [
    "#count the occurence of each element in the list\n",
    "a=[1,1,2,3,6,7,6,9,4,7,6]\n",
    "x=int(input(\"print the number\"))\n",
    "print(a.count(x))"
   ]
  },
  {
   "cell_type": "code",
   "execution_count": 8,
   "id": "c3d9e4a9-7e88-4d89-87f9-b9bdd9744504",
   "metadata": {},
   "outputs": [
    {
     "name": "stdout",
     "output_type": "stream",
     "text": [
      "the sum of even numbers is 30\n"
     ]
    }
   ],
   "source": [
    "#find the sum of even numbers in a list\n",
    "a=[1,2,3,4,5,6,7,8,9,10]\n",
    "sum=0\n",
    "for x in a:\n",
    "    if x%2==0:\n",
    "        sum+=x\n",
    "print(\"the sum of even numbers is\",sum)\n",
    "        "
   ]
  },
  {
   "cell_type": "code",
   "execution_count": null,
   "id": "68b6562a-9870-4ea3-aae8-5b8fe3f2a9a4",
   "metadata": {},
   "outputs": [],
   "source": []
  }
 ],
 "metadata": {
  "kernelspec": {
   "display_name": "Python 3 (ipykernel)",
   "language": "python",
   "name": "python3"
  },
  "language_info": {
   "codemirror_mode": {
    "name": "ipython",
    "version": 3
   },
   "file_extension": ".py",
   "mimetype": "text/x-python",
   "name": "python",
   "nbconvert_exporter": "python",
   "pygments_lexer": "ipython3",
   "version": "3.12.3"
  }
 },
 "nbformat": 4,
 "nbformat_minor": 5
}
